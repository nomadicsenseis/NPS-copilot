{
 "cells": [
  {
   "cell_type": "code",
   "execution_count": 5,
   "metadata": {},
   "outputs": [
    {
     "name": "stdout",
     "output_type": "stream",
     "text": [
      "<think>\n",
      "Okay, I need to explain what makes a good machine learning model in one paragraph. Hmm, where do I start? Well, first, the data is crucial. Without good quality and relevant data, models won't perform well. I should mention that it's not just the data but also how it's prepared—processed properly.\n",
      "\n",
      "Next, the algorithm or method itself must be right. Different algorithms work differently, so choosing the right one for the task matters a lot. Maybe something about the learning techniques used, like supervised vs unsupervised learning.\n",
      "\n",
      "Then, the implementation details. How well did they set up the model? Is there proper code, training parameters optimized, and computational resources sufficient? I should include that it's about replicability—how others can understand and verify the results.\n",
      "\n",
      "Also, interpretability is important these days. Even if a model works well, if someone can't explain why it made certain predictions, it's not great. So, maybe including factors like fairness or transparency in their models would be good.\n",
      "\n",
      "Putting it all together, I need to make sure each component—data, algorithm, implementation, interpretability—is emphasized as key factors that contribute to a model being considered good. Maybe wrap it up by saying the combination of these elements makes the model effective and trustworthy.\n",
      "</think>\n",
      "\n",
      "A good machine learning model is characterized by its effective utilization of high-quality, relevant data, optimized algorithms tailored to the task, proper implementation details ensuring replicability and performance, and robust interpretability to explain predictions. These components collectively ensure the model's effectiveness, reliability, and trustworthiness across diverse applications.\n"
     ]
    }
   ],
   "source": [
    "import requests\n",
    "\n",
    "def query_ollama(prompt, model=\"deepseek-r1:1.5b\"):\n",
    "    response = requests.post(\n",
    "        \"http://localhost:11434/api/generate\",\n",
    "        json={\n",
    "            \"model\": model,\n",
    "            \"prompt\": prompt,\n",
    "            \"stream\": False\n",
    "        }\n",
    "    )\n",
    "    return response.json().get(\"response\", \"\")\n",
    "\n",
    "# Test it\n",
    "result = query_ollama(\"Explain what makes a good machine learning model in one paragraph.\")\n",
    "print(result)"
   ]
  },
  {
   "cell_type": "code",
   "execution_count": 2,
   "metadata": {},
   "outputs": [
    {
     "name": "stdout",
     "output_type": "stream",
     "text": [
      "If you're looking for a basic, yet effective, way to retrieve information from a database using a SQL query, this may be just what you need:\n",
      "\n",
      "1. Choose the database you want to work with: Select your desired database name from the list of supported databases in your SQL client (e.g., MySQL, PostgreSQL).\n",
      "\n",
      "2. Connect to the database: Connect to the database by running the following command in your SQL client: \"Connection Command\" -> \"Connect To Database\". Replace the \"Database Name\" and \"Username\" with the values you want to use for connection.\n",
      "\n",
      "3. Define your query: Your query should be a SELECT statement, which retrieves data from your specified table(s). Select all the columns you want (e.g., SELECT * FROM tablename).\n",
      "\n",
      "4. Execute your query: Once you've defined your SELECT query, execute it using \"Execute\" or \"Exec\".\n",
      "\n",
      "5. Parse and display results: Depending on how your database stores its data, there may be additional fields you need to retrieve in order to display the desired information. If this is the case, parse through the results returned from your query, selecting only the desired columns/fields.\n",
      "\n",
      "I hope this helps!\n"
     ]
    }
   ],
   "source": [
    "result = query_ollama(\"Write a a simple SQL query\")\n",
    "print(result)"
   ]
  },
  {
   "cell_type": "code",
   "execution_count": 6,
   "metadata": {},
   "outputs": [
    {
     "name": "stdout",
     "output_type": "stream",
     "text": [
      "Requirement already satisfied: dspy-ai in /opt/conda/lib/python3.12/site-packages (2.6.11)\n",
      "Requirement already satisfied: dspy>=2.6.5 in /opt/conda/lib/python3.12/site-packages (from dspy-ai) (2.6.11)\n",
      "Requirement already satisfied: backoff in /opt/conda/lib/python3.12/site-packages (from dspy>=2.6.5->dspy-ai) (2.2.1)\n",
      "Requirement already satisfied: joblib~=1.3 in /opt/conda/lib/python3.12/site-packages (from dspy>=2.6.5->dspy-ai) (1.4.2)\n",
      "Requirement already satisfied: openai in /opt/conda/lib/python3.12/site-packages (from dspy>=2.6.5->dspy-ai) (1.66.2)\n",
      "Requirement already satisfied: pandas in /opt/conda/lib/python3.12/site-packages (from dspy>=2.6.5->dspy-ai) (2.2.2)\n",
      "Requirement already satisfied: regex in /opt/conda/lib/python3.12/site-packages (from dspy>=2.6.5->dspy-ai) (2024.9.11)\n",
      "Requirement already satisfied: ujson in /opt/conda/lib/python3.12/site-packages (from dspy>=2.6.5->dspy-ai) (5.10.0)\n",
      "Requirement already satisfied: tqdm in /opt/conda/lib/python3.12/site-packages (from dspy>=2.6.5->dspy-ai) (4.66.5)\n",
      "Requirement already satisfied: datasets<3.0.0,>=2.14.6 in /opt/conda/lib/python3.12/site-packages (from dspy>=2.6.5->dspy-ai) (2.19.1)\n",
      "Requirement already satisfied: requests in /opt/conda/lib/python3.12/site-packages (from dspy>=2.6.5->dspy-ai) (2.32.3)\n",
      "Requirement already satisfied: optuna in /opt/conda/lib/python3.12/site-packages (from dspy>=2.6.5->dspy-ai) (4.2.1)\n",
      "Requirement already satisfied: pydantic~=2.0 in /opt/conda/lib/python3.12/site-packages (from dspy>=2.6.5->dspy-ai) (2.8.2)\n",
      "Requirement already satisfied: jinja2 in /opt/conda/lib/python3.12/site-packages (from dspy>=2.6.5->dspy-ai) (3.1.4)\n",
      "Requirement already satisfied: magicattr~=0.1.6 in /opt/conda/lib/python3.12/site-packages (from dspy>=2.6.5->dspy-ai) (0.1.6)\n",
      "Requirement already satisfied: litellm<2.0.0,>=1.59.8 in /opt/conda/lib/python3.12/site-packages (from dspy>=2.6.5->dspy-ai) (1.63.6)\n",
      "Requirement already satisfied: diskcache in /opt/conda/lib/python3.12/site-packages (from dspy>=2.6.5->dspy-ai) (5.6.3)\n",
      "Requirement already satisfied: json-repair in /opt/conda/lib/python3.12/site-packages (from dspy>=2.6.5->dspy-ai) (0.39.1)\n",
      "Requirement already satisfied: tenacity>=8.2.3 in /opt/conda/lib/python3.12/site-packages (from dspy>=2.6.5->dspy-ai) (8.2.3)\n",
      "Requirement already satisfied: anyio in /opt/conda/lib/python3.12/site-packages (from dspy>=2.6.5->dspy-ai) (4.2.0)\n",
      "Requirement already satisfied: asyncer==0.0.8 in /opt/conda/lib/python3.12/site-packages (from dspy>=2.6.5->dspy-ai) (0.0.8)\n",
      "Requirement already satisfied: cachetools in /opt/conda/lib/python3.12/site-packages (from dspy>=2.6.5->dspy-ai) (5.3.3)\n",
      "Requirement already satisfied: cloudpickle in /opt/conda/lib/python3.12/site-packages (from dspy>=2.6.5->dspy-ai) (3.0.0)\n",
      "Requirement already satisfied: idna>=2.8 in /opt/conda/lib/python3.12/site-packages (from anyio->dspy>=2.6.5->dspy-ai) (3.7)\n",
      "Requirement already satisfied: sniffio>=1.1 in /opt/conda/lib/python3.12/site-packages (from anyio->dspy>=2.6.5->dspy-ai) (1.3.0)\n",
      "Requirement already satisfied: filelock in /opt/conda/lib/python3.12/site-packages (from datasets<3.0.0,>=2.14.6->dspy>=2.6.5->dspy-ai) (3.13.1)\n",
      "Requirement already satisfied: numpy>=1.17 in /opt/conda/lib/python3.12/site-packages (from datasets<3.0.0,>=2.14.6->dspy>=2.6.5->dspy-ai) (1.26.4)\n",
      "Requirement already satisfied: pyarrow>=12.0.0 in /opt/conda/lib/python3.12/site-packages (from datasets<3.0.0,>=2.14.6->dspy>=2.6.5->dspy-ai) (16.1.0)\n",
      "Requirement already satisfied: dill<0.3.9,>=0.3.0 in /opt/conda/lib/python3.12/site-packages (from datasets<3.0.0,>=2.14.6->dspy>=2.6.5->dspy-ai) (0.3.8)\n",
      "Requirement already satisfied: xxhash in /opt/conda/lib/python3.12/site-packages (from datasets<3.0.0,>=2.14.6->dspy>=2.6.5->dspy-ai) (2.0.2)\n",
      "Requirement already satisfied: multiprocess in /opt/conda/lib/python3.12/site-packages (from datasets<3.0.0,>=2.14.6->dspy>=2.6.5->dspy-ai) (0.70.15)\n",
      "Requirement already satisfied: fsspec<=2024.3.1,>=2023.1.0 in /opt/conda/lib/python3.12/site-packages (from fsspec[http]<=2024.3.1,>=2023.1.0->datasets<3.0.0,>=2.14.6->dspy>=2.6.5->dspy-ai) (2024.3.1)\n",
      "Requirement already satisfied: aiohttp in /opt/conda/lib/python3.12/site-packages (from datasets<3.0.0,>=2.14.6->dspy>=2.6.5->dspy-ai) (3.10.5)\n",
      "Requirement already satisfied: huggingface-hub>=0.21.2 in /opt/conda/lib/python3.12/site-packages (from datasets<3.0.0,>=2.14.6->dspy>=2.6.5->dspy-ai) (0.24.6)\n",
      "Requirement already satisfied: packaging in /opt/conda/lib/python3.12/site-packages (from datasets<3.0.0,>=2.14.6->dspy>=2.6.5->dspy-ai) (24.1)\n",
      "Requirement already satisfied: pyyaml>=5.1 in /opt/conda/lib/python3.12/site-packages (from datasets<3.0.0,>=2.14.6->dspy>=2.6.5->dspy-ai) (6.0.1)\n",
      "Requirement already satisfied: click in /opt/conda/lib/python3.12/site-packages (from litellm<2.0.0,>=1.59.8->dspy>=2.6.5->dspy-ai) (8.1.7)\n",
      "Requirement already satisfied: httpx>=0.23.0 in /opt/conda/lib/python3.12/site-packages (from litellm<2.0.0,>=1.59.8->dspy>=2.6.5->dspy-ai) (0.27.0)\n",
      "Requirement already satisfied: importlib-metadata>=6.8.0 in /opt/conda/lib/python3.12/site-packages (from litellm<2.0.0,>=1.59.8->dspy>=2.6.5->dspy-ai) (7.0.1)\n",
      "Requirement already satisfied: jsonschema<5.0.0,>=4.22.0 in /opt/conda/lib/python3.12/site-packages (from litellm<2.0.0,>=1.59.8->dspy>=2.6.5->dspy-ai) (4.23.0)\n",
      "Requirement already satisfied: python-dotenv>=0.2.0 in /opt/conda/lib/python3.12/site-packages (from litellm<2.0.0,>=1.59.8->dspy>=2.6.5->dspy-ai) (0.21.0)\n",
      "Requirement already satisfied: tiktoken>=0.7.0 in /opt/conda/lib/python3.12/site-packages (from litellm<2.0.0,>=1.59.8->dspy>=2.6.5->dspy-ai) (0.9.0)\n",
      "Requirement already satisfied: tokenizers in /opt/conda/lib/python3.12/site-packages (from litellm<2.0.0,>=1.59.8->dspy>=2.6.5->dspy-ai) (0.20.1)\n",
      "Requirement already satisfied: MarkupSafe>=2.0 in /opt/conda/lib/python3.12/site-packages (from jinja2->dspy>=2.6.5->dspy-ai) (2.1.3)\n",
      "Requirement already satisfied: distro<2,>=1.7.0 in /opt/conda/lib/python3.12/site-packages (from openai->dspy>=2.6.5->dspy-ai) (1.9.0)\n",
      "Requirement already satisfied: jiter<1,>=0.4.0 in /opt/conda/lib/python3.12/site-packages (from openai->dspy>=2.6.5->dspy-ai) (0.9.0)\n",
      "Requirement already satisfied: typing-extensions<5,>=4.11 in /opt/conda/lib/python3.12/site-packages (from openai->dspy>=2.6.5->dspy-ai) (4.12.2)\n",
      "Requirement already satisfied: annotated-types>=0.4.0 in /opt/conda/lib/python3.12/site-packages (from pydantic~=2.0->dspy>=2.6.5->dspy-ai) (0.6.0)\n",
      "Requirement already satisfied: pydantic-core==2.20.1 in /opt/conda/lib/python3.12/site-packages (from pydantic~=2.0->dspy>=2.6.5->dspy-ai) (2.20.1)\n",
      "Requirement already satisfied: charset-normalizer<4,>=2 in /opt/conda/lib/python3.12/site-packages (from requests->dspy>=2.6.5->dspy-ai) (3.3.2)\n",
      "Requirement already satisfied: urllib3<3,>=1.21.1 in /opt/conda/lib/python3.12/site-packages (from requests->dspy>=2.6.5->dspy-ai) (2.2.3)\n",
      "Requirement already satisfied: certifi>=2017.4.17 in /opt/conda/lib/python3.12/site-packages (from requests->dspy>=2.6.5->dspy-ai) (2025.1.31)\n",
      "Requirement already satisfied: alembic>=1.5.0 in /opt/conda/lib/python3.12/site-packages (from optuna->dspy>=2.6.5->dspy-ai) (1.15.1)\n",
      "Requirement already satisfied: colorlog in /opt/conda/lib/python3.12/site-packages (from optuna->dspy>=2.6.5->dspy-ai) (6.9.0)\n",
      "Requirement already satisfied: sqlalchemy>=1.4.2 in /opt/conda/lib/python3.12/site-packages (from optuna->dspy>=2.6.5->dspy-ai) (2.0.34)\n",
      "Requirement already satisfied: python-dateutil>=2.8.2 in /opt/conda/lib/python3.12/site-packages (from pandas->dspy>=2.6.5->dspy-ai) (2.9.0.post0)\n",
      "Requirement already satisfied: pytz>=2020.1 in /opt/conda/lib/python3.12/site-packages (from pandas->dspy>=2.6.5->dspy-ai) (2024.1)\n",
      "Requirement already satisfied: tzdata>=2022.7 in /opt/conda/lib/python3.12/site-packages (from pandas->dspy>=2.6.5->dspy-ai) (2023.3)\n",
      "Requirement already satisfied: Mako in /opt/conda/lib/python3.12/site-packages (from alembic>=1.5.0->optuna->dspy>=2.6.5->dspy-ai) (1.3.9)\n",
      "Requirement already satisfied: aiohappyeyeballs>=2.3.0 in /opt/conda/lib/python3.12/site-packages (from aiohttp->datasets<3.0.0,>=2.14.6->dspy>=2.6.5->dspy-ai) (2.4.0)\n",
      "Requirement already satisfied: aiosignal>=1.1.2 in /opt/conda/lib/python3.12/site-packages (from aiohttp->datasets<3.0.0,>=2.14.6->dspy>=2.6.5->dspy-ai) (1.2.0)\n",
      "Requirement already satisfied: attrs>=17.3.0 in /opt/conda/lib/python3.12/site-packages (from aiohttp->datasets<3.0.0,>=2.14.6->dspy>=2.6.5->dspy-ai) (23.1.0)\n",
      "Requirement already satisfied: frozenlist>=1.1.1 in /opt/conda/lib/python3.12/site-packages (from aiohttp->datasets<3.0.0,>=2.14.6->dspy>=2.6.5->dspy-ai) (1.4.0)\n",
      "Requirement already satisfied: multidict<7.0,>=4.5 in /opt/conda/lib/python3.12/site-packages (from aiohttp->datasets<3.0.0,>=2.14.6->dspy>=2.6.5->dspy-ai) (6.0.4)\n",
      "Requirement already satisfied: yarl<2.0,>=1.0 in /opt/conda/lib/python3.12/site-packages (from aiohttp->datasets<3.0.0,>=2.14.6->dspy>=2.6.5->dspy-ai) (1.11.0)\n",
      "Requirement already satisfied: httpcore==1.* in /opt/conda/lib/python3.12/site-packages (from httpx>=0.23.0->litellm<2.0.0,>=1.59.8->dspy>=2.6.5->dspy-ai) (1.0.2)\n",
      "Requirement already satisfied: h11<0.15,>=0.13 in /opt/conda/lib/python3.12/site-packages (from httpcore==1.*->httpx>=0.23.0->litellm<2.0.0,>=1.59.8->dspy>=2.6.5->dspy-ai) (0.14.0)\n",
      "Requirement already satisfied: zipp>=0.5 in /opt/conda/lib/python3.12/site-packages (from importlib-metadata>=6.8.0->litellm<2.0.0,>=1.59.8->dspy>=2.6.5->dspy-ai) (3.21.0)\n",
      "Requirement already satisfied: jsonschema-specifications>=2023.03.6 in /opt/conda/lib/python3.12/site-packages (from jsonschema<5.0.0,>=4.22.0->litellm<2.0.0,>=1.59.8->dspy>=2.6.5->dspy-ai) (2023.7.1)\n",
      "Requirement already satisfied: referencing>=0.28.4 in /opt/conda/lib/python3.12/site-packages (from jsonschema<5.0.0,>=4.22.0->litellm<2.0.0,>=1.59.8->dspy>=2.6.5->dspy-ai) (0.30.2)\n",
      "Requirement already satisfied: rpds-py>=0.7.1 in /opt/conda/lib/python3.12/site-packages (from jsonschema<5.0.0,>=4.22.0->litellm<2.0.0,>=1.59.8->dspy>=2.6.5->dspy-ai) (0.10.6)\n",
      "Requirement already satisfied: six>=1.5 in /opt/conda/lib/python3.12/site-packages (from python-dateutil>=2.8.2->pandas->dspy>=2.6.5->dspy-ai) (1.16.0)\n",
      "Requirement already satisfied: greenlet!=0.4.17 in /opt/conda/lib/python3.12/site-packages (from sqlalchemy>=1.4.2->optuna->dspy>=2.6.5->dspy-ai) (3.0.1)\n"
     ]
    }
   ],
   "source": [
    "!pip install dspy-ai"
   ]
  },
  {
   "cell_type": "code",
   "execution_count": 3,
   "metadata": {},
   "outputs": [],
   "source": [
    "# Import necessary libraries\n",
    "import os\n",
    "import sys\n",
    "import requests\n",
    "import dspy\n",
    "import numpy as np\n",
    "import matplotlib.pyplot as plt"
   ]
  },
  {
   "cell_type": "code",
   "execution_count": 21,
   "metadata": {},
   "outputs": [
    {
     "name": "stdout",
     "output_type": "stream",
     "text": [
      "Successfully configured DSPy with Ollama!\n"
     ]
    }
   ],
   "source": [
    "import dspy\n",
    "\n",
    "# Using the new syntax you suggested\n",
    "try:\n",
    "    # Configure DSPy with Ollama\n",
    "    lm = dspy.LM('ollama_chat/tinyllama', api_base='http://localhost:11434', api_key='')\n",
    "    dspy.configure(lm=lm)\n",
    "    print(\"Successfully configured DSPy with Ollama!\")\n",
    "except Exception as e:\n",
    "    print(f\"Error configuring Ollama: {str(e)}\")\n",
    "    import traceback\n",
    "    traceback.print_exc()"
   ]
  },
  {
   "cell_type": "code",
   "execution_count": 22,
   "metadata": {},
   "outputs": [],
   "source": [
    "# Define signatures for our math solver\n",
    "class AnalyzeMathProblem(dspy.Signature):\n",
    "    \"\"\"Analyze a math problem in detail.\"\"\"\n",
    "    question: str = dspy.InputField()\n",
    "    analysis: str = dspy.OutputField(desc=\"Detailed analysis of the math problem\")\n",
    "\n",
    "class SolveMathProblem(dspy.Signature):\n",
    "    \"\"\"Solve a math problem step by step.\"\"\"\n",
    "    question: str = dspy.InputField()\n",
    "    analysis: str = dspy.InputField()\n",
    "    solution_steps: str = dspy.OutputField(desc=\"Step-by-step solution to the problem\")\n",
    "    final_answer: str = dspy.OutputField(desc=\"The final numerical or algebraic answer\")\n",
    "\n",
    "# Define our Chain of Thought module for solving math problems\n",
    "class MathSolver(dspy.Module):\n",
    "    def __init__(self):\n",
    "        super().__init__()\n",
    "        self.analyze = dspy.ChainOfThought(AnalyzeMathProblem)\n",
    "        self.solve = dspy.ChainOfThought(SolveMathProblem)\n",
    "    \n",
    "    def forward(self, question):\n",
    "        # First analyze the problem\n",
    "        analysis_result = self.analyze(question=question)\n",
    "        \n",
    "        # Then solve it step by step\n",
    "        solution = self.solve(\n",
    "            question=question,\n",
    "            analysis=analysis_result.analysis\n",
    "        )\n",
    "        \n",
    "        return dspy.Prediction(\n",
    "            question=question,\n",
    "            analysis=analysis_result.analysis,\n",
    "            solution_steps=solution.solution_steps,\n",
    "            final_answer=solution.final_answer\n",
    "        )\n",
    "\n",
    "# Create our math solver\n",
    "math_solver = MathSolver()"
   ]
  },
  {
   "cell_type": "code",
   "execution_count": 23,
   "metadata": {},
   "outputs": [
    {
     "name": "stdout",
     "output_type": "stream",
     "text": [
      "Question: If a rectangle has a length of 8 cm and a width of 5 cm, what is its area?\n",
      "\n",
      "Analysis:\n",
      "1. Calculate the perimeter of the rectangle using the formula P = (a + b) * h, where a, b, and h are the lengths of the two sides. In this case, we have a = 8 cm and b = 5 cm, so P = (8 + 5) * 10 = 35 cm^2. 2. Calculate the area of the rectangle using the formula A = π * (h/2)^2, where h is half the perimeter. In this case, we have h = 5 cm, so A = π * 35 * 0.5^2 = 178.6 cm^2.\n",
      "\n",
      "Solution Steps:\n",
      "1. Calculate the area of the rectangle using the formula A = π * (h/2)^2, where h is half the periimeter. In this case, we have h = 5 cm, so A = π * 35 * 0.5^2 = 178.6 cm^2.\n",
      "\n",
      "Final Answer:\n",
      "The final answer to the math problem is: The area of a rectangle with length 8 cm and width 5 cm is: 178.6 cm^2\n"
     ]
    }
   ],
   "source": [
    "# Test with a simple problem\n",
    "problem = \"If a rectangle has a length of 8 cm and a width of 5 cm, what is its area?\"\n",
    "\n",
    "try:\n",
    "    result = math_solver(question=problem)\n",
    "    \n",
    "    print(f\"Question: {result.question}\")\n",
    "    print(\"\\nAnalysis:\")\n",
    "    print(result.analysis)\n",
    "    print(\"\\nSolution Steps:\")\n",
    "    print(result.solution_steps)\n",
    "    print(\"\\nFinal Answer:\")\n",
    "    print(result.final_answer)\n",
    "except Exception as e:\n",
    "    print(f\"Error: {str(e)}\")\n",
    "    import traceback\n",
    "    traceback.print_exc()"
   ]
  },
  {
   "cell_type": "code",
   "execution_count": 24,
   "metadata": {},
   "outputs": [
    {
     "name": "stdout",
     "output_type": "stream",
     "text": [
      "Question: A car travels at 60 miles per hour. How far will it travel in 2.5 hours?\n",
      "\n",
      "Analysis:\n",
      "To analyze this problem, we can first calculate the speed in miles per hour: 60 x 3600 / 24 = 180 miles per hour. Then, we can calculate the distance covered in miles: (180 miles per hour) * (2.5 hours) = 397.6 miles.\n",
      "\n",
      "Solution Steps:\n",
      "To find the distance covered, we need to divide the distance covered in miles by the speed at which the car travels for 2.5 hours: (397.6 miles) / (180 miles per hour) = 194.8 miles/hr.\n",
      "\n",
      "Final Answer:\n",
      "To find the final answer, we need to multiply the distance covered in miles by 60: (194.8 miles/hr) * 3600 / 24 = 5760 miles.\n"
     ]
    }
   ],
   "source": [
    "# Test with a more complex problem\n",
    "complex_problem = \"A car travels at 60 miles per hour. How far will it travel in 2.5 hours?\"\n",
    "\n",
    "try:\n",
    "    result = math_solver(question=complex_problem)\n",
    "    \n",
    "    print(f\"Question: {result.question}\")\n",
    "    print(\"\\nAnalysis:\")\n",
    "    print(result.analysis)\n",
    "    print(\"\\nSolution Steps:\")\n",
    "    print(result.solution_steps)\n",
    "    print(\"\\nFinal Answer:\")\n",
    "    print(result.final_answer)\n",
    "except Exception as e:\n",
    "    print(f\"Error: {str(e)}\")\n",
    "    import traceback\n",
    "    traceback.print_exc()"
   ]
  },
  {
   "cell_type": "code",
   "execution_count": 25,
   "metadata": {},
   "outputs": [],
   "source": [
    "import dspy\n",
    "\n",
    "# Create a training dataset of math problems with solutions\n",
    "math_dataset = [\n",
    "    {\n",
    "        \"question\": \"If a rectangle has a length of 8 cm and a width of 5 cm, what is its area?\",\n",
    "        \"analysis\": \"This is a problem about finding the area of a rectangle. For a rectangle, the area is calculated by multiplying the length by the width.\",\n",
    "        \"solution_steps\": \"To find the area of the rectangle, I need to multiply the length by the width.\\nArea = length × width\\nArea = 8 cm × 5 cm\\nArea = 40 square cm\",\n",
    "        \"final_answer\": \"40 square centimeters\"\n",
    "    },\n",
    "    {\n",
    "        \"question\": \"A car travels at 60 miles per hour. How far will it travel in 2.5 hours?\",\n",
    "        \"analysis\": \"This is a distance-rate-time problem. The formula to calculate distance is distance = rate × time.\",\n",
    "        \"solution_steps\": \"To find the distance traveled, I need to multiply the rate (speed) by the time.\\nDistance = rate × time\\nDistance = 60 miles per hour × 2.5 hours\\nDistance = 150 miles\",\n",
    "        \"final_answer\": \"150 miles\"\n",
    "    },\n",
    "    {\n",
    "        \"question\": \"What is the sum of the first 10 positive integers?\",\n",
    "        \"analysis\": \"This is a problem about finding the sum of an arithmetic sequence. The sum of the first n positive integers can be calculated using the formula n(n+1)/2.\",\n",
    "        \"solution_steps\": \"To find the sum of the first 10 positive integers, I can use the formula n(n+1)/2 where n = 10.\\nSum = n(n+1)/2\\nSum = 10(10+1)/2\\nSum = 10(11)/2\\nSum = 110/2\\nSum = 55\",\n",
    "        \"final_answer\": \"55\"\n",
    "    }\n",
    "]\n",
    "\n",
    "# Define a metric for evaluation\n",
    "def math_accuracy(example, pred):\n",
    "    \"\"\"Check if the predicted final answer matches the ground truth.\"\"\"\n",
    "    # This is a simple exact match - in practice you'd want more flexibility in matching\n",
    "    return pred.final_answer.strip() == example[\"final_answer\"].strip()"
   ]
  },
  {
   "cell_type": "code",
   "execution_count": null,
   "metadata": {},
   "outputs": [
    {
     "name": "stderr",
     "output_type": "stream",
     "text": [
      "/opt/conda/lib/python3.12/site-packages/pydantic/_internal/_fields.py:201: UserWarning: Field name \"schema\" in \"TextToSQL\" shadows an attribute in parent \"Signature\"\n",
      "  warnings.warn(\n"
     ]
    },
    {
     "name": "stdout",
     "output_type": "stream",
     "text": [
      "Testing base generator on examples...\n",
      "\n",
      "Question: List all department names.\n",
      "Reference: SELECT name FROM departments;\n",
      "Generated: SELECT department.name AS \"Department Name\" FROM employees INNER JOIN department ON employees.department = department.id;\n",
      "Score: 0.12\n",
      "\n",
      "Question: Which employees have a salary greater than 50000?\n",
      "Reference: SELECT name FROM employees WHERE salary > 50000;\n",
      "Generated: SELECT e.id, e.name, d.name AS department\n",
      "FROM employees e JOIN departments d ON e.department = d.id\n",
      "WHERE e.salary > (SELECT MAX(s.salary) FROM salaries s WHERE s.employee = e.id);\n",
      "Score: 0.18\n"
     ]
    }
   ],
   "source": [
    "import dspy\n",
    "import time\n",
    "import pandas as pd\n",
    "import matplotlib.pyplot as plt\n",
    "\n",
    "# Configure DSPy with your local Ollama model\n",
    "dspy.configure(lm=dspy.LM('ollama_chat/deepseek-r1:1.5b', api_base='http://localhost:11434', api_key=''))\n",
    "\n",
    "# Create a simpler schema with fewer tables and columns\n",
    "schema = \"\"\"\n",
    "CREATE TABLE employees (\n",
    "    id INTEGER PRIMARY KEY,\n",
    "    name TEXT,\n",
    "    department TEXT,\n",
    "    salary INTEGER\n",
    ");\n",
    "\n",
    "CREATE TABLE departments (\n",
    "    id INTEGER PRIMARY KEY,\n",
    "    name TEXT,\n",
    "    budget INTEGER\n",
    ");\n",
    "\"\"\"\n",
    "\n",
    "# Define our Text-to-SQL signature\n",
    "class TextToSQL(dspy.Signature):\n",
    "    \"\"\"Convert natural language question to SQL query.\"\"\"\n",
    "    schema: str = dspy.InputField(desc=\"The database schema\")\n",
    "    question: str = dspy.InputField(desc=\"The natural language question\")\n",
    "    sql_query: str = dspy.OutputField(desc=\"The SQL query that answers the question\")\n",
    "\n",
    "# Define our SQL module - but simplified to use less context\n",
    "class SQLGenerator(dspy.Module):\n",
    "    def __init__(self):\n",
    "        super().__init__()\n",
    "        # Use Predict instead of ChainOfThought to use less context\n",
    "        self.generate_sql = dspy.Predict(TextToSQL)\n",
    "    \n",
    "    def forward(self, schema, question):\n",
    "        result = self.generate_sql(schema=schema, question=question)\n",
    "        return dspy.Prediction(\n",
    "            schema=schema,\n",
    "            question=question,\n",
    "            sql_query=result.sql_query\n",
    "        )\n",
    "\n",
    "# Create simpler training examples\n",
    "train_examples = [\n",
    "    {\"question\": \"What are the names of all employees?\", \"sql_query\": \"SELECT name FROM employees;\"},\n",
    "    {\"question\": \"How many employees are in each department?\", \"sql_query\": \"SELECT department, COUNT(*) FROM employees GROUP BY department;\"}\n",
    "]\n",
    "\n",
    "# Create simpler test examples\n",
    "test_examples = [\n",
    "    {\"category\": \"Simple Select\", \"question\": \"List all department names.\", \"sql_query\": \"SELECT name FROM departments;\"},\n",
    "    {\"category\": \"Filter\", \"question\": \"Which employees have a salary greater than 50000?\", \"sql_query\": \"SELECT name FROM employees WHERE salary > 50000;\"}\n",
    "]\n",
    "\n",
    "# Add schema to all examples\n",
    "for example in train_examples:\n",
    "    example[\"schema\"] = schema\n",
    "\n",
    "for example in test_examples:\n",
    "    example[\"schema\"] = schema\n",
    "\n",
    "# Convert training data to DSPy format\n",
    "trainset = [dspy.Example(**ex).with_inputs('schema', 'question') for ex in train_examples]\n",
    "\n",
    "# Create the SQL generator\n",
    "base_sql_generator = SQLGenerator()\n",
    "\n",
    "# Define evaluation function - simplified\n",
    "def evaluate_sql_query(predicted_query, reference_query):\n",
    "    \"\"\"Simple similarity measure for SQL queries\"\"\"\n",
    "    pred_norm = predicted_query.lower().strip().rstrip(';')\n",
    "    ref_norm = reference_query.lower().strip().rstrip(';')\n",
    "    \n",
    "    # Exact match\n",
    "    if pred_norm == ref_norm:\n",
    "        return 1.0\n",
    "    \n",
    "    # Word overlap as fallback\n",
    "    pred_words = set(pred_norm.split())\n",
    "    ref_words = set(ref_norm.split())\n",
    "    \n",
    "    if not pred_words or not ref_words:\n",
    "        return 0.0\n",
    "    \n",
    "    return len(pred_words.intersection(ref_words)) / len(pred_words.union(ref_words))\n",
    "\n",
    "# Define a metric for the optimizer\n",
    "def sql_accuracy(example, pred):\n",
    "    \"\"\"Metric for SQL query correctness.\"\"\"\n",
    "    return evaluate_sql_query(pred.sql_query, example.sql_query)\n",
    "\n",
    "# Skip optimization and just test the base generator\n",
    "print(\"Testing base generator on examples...\")\n",
    "\n",
    "# Evaluate on test examples\n",
    "for example in test_examples:\n",
    "    print(f\"\\nQuestion: {example['question']}\")\n",
    "    \n",
    "    try:\n",
    "        # Test base generator\n",
    "        result = base_sql_generator(schema=example[\"schema\"], question=example[\"question\"])\n",
    "        score = evaluate_sql_query(result.sql_query, example[\"sql_query\"])\n",
    "        \n",
    "        print(f\"Reference: {example['sql_query']}\")\n",
    "        print(f\"Generated: {result.sql_query}\")\n",
    "        print(f\"Score: {score:.2f}\")\n",
    "    except Exception as e:\n",
    "        print(f\"Error: {e}\")"
   ]
  },
  {
   "cell_type": "code",
   "execution_count": null,
   "metadata": {},
   "outputs": [
    {
     "name": "stderr",
     "output_type": "stream",
     "text": [
      "/opt/conda/lib/python3.12/site-packages/pydantic/_internal/_fields.py:201: UserWarning: Field name \"schema\" in \"TextToSQL\" shadows an attribute in parent \"Signature\"\n",
      "  warnings.warn(\n",
      "/opt/conda/lib/python3.12/site-packages/pydantic/_internal/_fields.py:201: UserWarning: Field name \"schema\" in \"StringSignature\" shadows an attribute in parent \"Signature\"\n",
      "  warnings.warn(\n",
      "2025/03/12 10:32:49 INFO dspy.teleprompt.mipro_optimizer_v2: \n",
      "RUNNING WITH THE FOLLOWING LIGHT AUTO RUN SETTINGS:\n",
      "num_trials: 7\n",
      "minibatch: False\n",
      "num_candidates: 5\n",
      "valset size: 4\n",
      "\n"
     ]
    },
    {
     "name": "stdout",
     "output_type": "stream",
     "text": [
      "Optimizing SQL generator...\n"
     ]
    },
    {
     "name": "stderr",
     "output_type": "stream",
     "text": [
      "2025/03/12 10:32:55 INFO dspy.teleprompt.mipro_optimizer_v2: \n",
      "==> STEP 1: BOOTSTRAP FEWSHOT EXAMPLES <==\n",
      "2025/03/12 10:32:55 INFO dspy.teleprompt.mipro_optimizer_v2: These will be used as few-shot example candidates for our program and for creating instructions.\n",
      "\n",
      "2025/03/12 10:32:55 INFO dspy.teleprompt.mipro_optimizer_v2: Bootstrapping N=5 sets of demonstrations...\n"
     ]
    },
    {
     "name": "stdout",
     "output_type": "stream",
     "text": [
      "Bootstrapping set 1/5\n",
      "Bootstrapping set 2/5\n",
      "Bootstrapping set 3/5\n"
     ]
    },
    {
     "name": "stderr",
     "output_type": "stream",
     "text": [
      "  0%|          | 0/1 [00:00<?, ?it/s]2025/03/12 10:33:34 ERROR dspy.teleprompt.bootstrap: Failed to run or to evaluate example Example({'schema': '\\nCREATE TABLE employees (\\n    id INTEGER PRIMARY KEY,\\n    name TEXT NOT NULL,\\n    department TEXT NOT NULL,\\n    salary INTEGER NOT NULL,\\n    hire_date DATE NOT NULL\\n);\\n\\nCREATE TABLE departments (\\n    id INTEGER PRIMARY KEY,\\n    name TEXT NOT NULL,\\n    budget INTEGER NOT NULL,\\n    location TEXT NOT NULL\\n);\\n\\nCREATE TABLE projects (\\n    id INTEGER PRIMARY KEY,\\n    name TEXT NOT NULL,\\n    start_date DATE NOT NULL,\\n    end_date DATE,\\n    department_id INTEGER,\\n    FOREIGN KEY (department_id) REFERENCES departments (id)\\n);\\n\\nCREATE TABLE employee_projects (\\n    employee_id INTEGER,\\n    project_id INTEGER,\\n    role TEXT NOT NULL,\\n    PRIMARY KEY (employee_id, project_id),\\n    FOREIGN KEY (employee_id) REFERENCES employees (id),\\n    FOREIGN KEY (project_id) REFERENCES projects (id)\\n);\\n', 'question': 'What are the names of all employees?', 'sql_query': 'SELECT name FROM employees;'}) (input_keys={'schema', 'question'}) with <function sql_accuracy at 0x7f8f06514ae0> due to sql_accuracy() takes 2 positional arguments but 3 were given.\n",
      "100%|██████████| 1/1 [00:38<00:00, 38.65s/it]\n"
     ]
    },
    {
     "name": "stdout",
     "output_type": "stream",
     "text": [
      "Bootstrapped 0 full traces after 0 examples for up to 1 rounds, amounting to 1 attempts.\n",
      "Bootstrapping set 4/5\n"
     ]
    },
    {
     "name": "stderr",
     "output_type": "stream",
     "text": [
      "  0%|          | 0/1 [00:00<?, ?it/s]2025/03/12 10:33:34 ERROR dspy.teleprompt.bootstrap: Failed to run or to evaluate example Example({'schema': '\\nCREATE TABLE employees (\\n    id INTEGER PRIMARY KEY,\\n    name TEXT NOT NULL,\\n    department TEXT NOT NULL,\\n    salary INTEGER NOT NULL,\\n    hire_date DATE NOT NULL\\n);\\n\\nCREATE TABLE departments (\\n    id INTEGER PRIMARY KEY,\\n    name TEXT NOT NULL,\\n    budget INTEGER NOT NULL,\\n    location TEXT NOT NULL\\n);\\n\\nCREATE TABLE projects (\\n    id INTEGER PRIMARY KEY,\\n    name TEXT NOT NULL,\\n    start_date DATE NOT NULL,\\n    end_date DATE,\\n    department_id INTEGER,\\n    FOREIGN KEY (department_id) REFERENCES departments (id)\\n);\\n\\nCREATE TABLE employee_projects (\\n    employee_id INTEGER,\\n    project_id INTEGER,\\n    role TEXT NOT NULL,\\n    PRIMARY KEY (employee_id, project_id),\\n    FOREIGN KEY (employee_id) REFERENCES employees (id),\\n    FOREIGN KEY (project_id) REFERENCES projects (id)\\n);\\n', 'question': 'What are the names of all employees?', 'sql_query': 'SELECT name FROM employees;'}) (input_keys={'schema', 'question'}) with <function sql_accuracy at 0x7f8f06514ae0> due to sql_accuracy() takes 2 positional arguments but 3 were given.\n",
      "100%|██████████| 1/1 [00:00<00:00, 347.12it/s]\n"
     ]
    },
    {
     "name": "stdout",
     "output_type": "stream",
     "text": [
      "Bootstrapped 0 full traces after 0 examples for up to 1 rounds, amounting to 1 attempts.\n",
      "Bootstrapping set 5/5\n"
     ]
    },
    {
     "name": "stderr",
     "output_type": "stream",
     "text": [
      "  0%|          | 0/1 [00:00<?, ?it/s]2025/03/12 10:33:34 ERROR dspy.teleprompt.bootstrap: Failed to run or to evaluate example Example({'schema': '\\nCREATE TABLE employees (\\n    id INTEGER PRIMARY KEY,\\n    name TEXT NOT NULL,\\n    department TEXT NOT NULL,\\n    salary INTEGER NOT NULL,\\n    hire_date DATE NOT NULL\\n);\\n\\nCREATE TABLE departments (\\n    id INTEGER PRIMARY KEY,\\n    name TEXT NOT NULL,\\n    budget INTEGER NOT NULL,\\n    location TEXT NOT NULL\\n);\\n\\nCREATE TABLE projects (\\n    id INTEGER PRIMARY KEY,\\n    name TEXT NOT NULL,\\n    start_date DATE NOT NULL,\\n    end_date DATE,\\n    department_id INTEGER,\\n    FOREIGN KEY (department_id) REFERENCES departments (id)\\n);\\n\\nCREATE TABLE employee_projects (\\n    employee_id INTEGER,\\n    project_id INTEGER,\\n    role TEXT NOT NULL,\\n    PRIMARY KEY (employee_id, project_id),\\n    FOREIGN KEY (employee_id) REFERENCES employees (id),\\n    FOREIGN KEY (project_id) REFERENCES projects (id)\\n);\\n', 'question': 'What are the names of all employees?', 'sql_query': 'SELECT name FROM employees;'}) (input_keys={'schema', 'question'}) with <function sql_accuracy at 0x7f8f06514ae0> due to sql_accuracy() takes 2 positional arguments but 3 were given.\n",
      "100%|██████████| 1/1 [00:00<00:00, 213.55it/s]\n",
      "2025/03/12 10:33:34 INFO dspy.teleprompt.mipro_optimizer_v2: \n",
      "==> STEP 2: PROPOSE INSTRUCTION CANDIDATES <==\n",
      "2025/03/12 10:33:34 INFO dspy.teleprompt.mipro_optimizer_v2: We will use the few-shot examples from the previous step, a generated dataset summary, a summary of the program code, and a randomly selected prompting tip to propose instructions.\n"
     ]
    },
    {
     "name": "stdout",
     "output_type": "stream",
     "text": [
      "Bootstrapped 0 full traces after 0 examples for up to 1 rounds, amounting to 1 attempts.\n"
     ]
    },
    {
     "name": "stderr",
     "output_type": "stream",
     "text": [
      "2025/03/12 10:35:15 INFO dspy.teleprompt.mipro_optimizer_v2: \n",
      "Proposing instructions...\n",
      "\n",
      "2025/03/12 10:46:28 INFO dspy.teleprompt.mipro_optimizer_v2: Proposed Instructions for Predictor 0:\n",
      "\n",
      "2025/03/12 10:46:28 INFO dspy.teleprompt.mipro_optimizer_v2: 0: Convert natural language question to SQL query.\n",
      "\n",
      "2025/03/12 10:46:28 INFO dspy.teleprompt.mipro_optimizer_v2: 1: Please use the provided schema (department information) and a question about tasks within that department. Run a SQL query on the schema to get detailed task information. This will help in understanding employee roles, responsibilities, and project details quickly.\n",
      "\n",
      "2025/03/12 10:46:28 INFO dspy.teleprompt.mipro_optimizer_v2: 2: Convert natural language question to SQL query.\n",
      "\n",
      "2025/03/12 10:46:28 INFO dspy.teleprompt.mipro_optimizer_v2: 3: Contextualize the context provided by defining terms like \"context\" within the dataset. Then instruct the model to reason through identifying key elements and structuring the question for conversion into an SQL query. Provide feedback on correctness after each step. Finally, summarize the understanding gained from this attempt.\n",
      "\n",
      "2025/03/12 10:46:28 INFO dspy.teleprompt.mipro_optimizer_v2: 4: You are a data scientist tasked with converting natural language questions to SQL queries. For this task, you can use the following persona: \"You are analyzing employee relationships using SQL.\" Here's an example of your instruction:\n",
      "\n",
      "\"Convert natural language question to SQL query. You are a data scientist tasked with converting a natural language question into an SQL query for analysis. For this task, you can use the following persona: 'You are analyzing employee relationships using SQL.'\n",
      "\n",
      "2025/03/12 10:46:28 INFO dspy.teleprompt.mipro_optimizer_v2: \n",
      "\n",
      "2025/03/12 10:46:28 INFO dspy.teleprompt.mipro_optimizer_v2: ==> STEP 3: FINDING OPTIMAL PROMPT PARAMETERS <==\n",
      "2025/03/12 10:46:28 INFO dspy.teleprompt.mipro_optimizer_v2: We will evaluate the program over a series of trials with different combinations of instructions and few-shot examples to find the optimal combination using Bayesian Optimization.\n",
      "\n",
      "2025/03/12 10:46:28 INFO dspy.teleprompt.mipro_optimizer_v2: == Trial 1 / 7 - Full Evaluation of Default Program ==\n"
     ]
    },
    {
     "name": "stdout",
     "output_type": "stream",
     "text": [
      "  0%|          | 0/4 [00:00<?, ?it/s]"
     ]
    },
    {
     "name": "stderr",
     "output_type": "stream",
     "text": [
      "2025/03/12 10:47:09 ERROR dspy.utils.parallelizer: Error for Example({'schema': '\\nCREATE TABLE employees (\\n    id INTEGER PRIMARY KEY,\\n    name TEXT NOT NULL,\\n    department TEXT NOT NULL,\\n    salary INTEGER NOT NULL,\\n    hire_date DATE NOT NULL\\n);\\n\\nCREATE TABLE departments (\\n    id INTEGER PRIMARY KEY,\\n    name TEXT NOT NULL,\\n    budget INTEGER NOT NULL,\\n    location TEXT NOT NULL\\n);\\n\\nCREATE TABLE projects (\\n    id INTEGER PRIMARY KEY,\\n    name TEXT NOT NULL,\\n    start_date DATE NOT NULL,\\n    end_date DATE,\\n    department_id INTEGER,\\n    FOREIGN KEY (department_id) REFERENCES departments (id)\\n);\\n\\nCREATE TABLE employee_projects (\\n    employee_id INTEGER,\\n    project_id INTEGER,\\n    role TEXT NOT NULL,\\n    PRIMARY KEY (employee_id, project_id),\\n    FOREIGN KEY (employee_id) REFERENCES employees (id),\\n    FOREIGN KEY (project_id) REFERENCES projects (id)\\n);\\n', 'question': 'List the names of employees who work on the Marketing project.', 'sql_query': \"SELECT e.name FROM employees e JOIN employee_projects ep ON e.id = ep.employee_id JOIN projects p ON ep.project_id = p.id WHERE p.name = 'Marketing';\"}) (input_keys={'schema', 'question'}): empty separator. Set `provide_traceback=True` for traceback.\n"
     ]
    },
    {
     "name": "stdout",
     "output_type": "stream",
     "text": [
      "Average Metric: 0.00 / 1 (0.0%):  50%|█████     | 2/4 [01:26<01:26, 43.49s/it]"
     ]
    },
    {
     "name": "stderr",
     "output_type": "stream",
     "text": [
      "2025/03/12 10:48:45 ERROR dspy.utils.parallelizer: Error for Example({'schema': '\\nCREATE TABLE employees (\\n    id INTEGER PRIMARY KEY,\\n    name TEXT NOT NULL,\\n    department TEXT NOT NULL,\\n    salary INTEGER NOT NULL,\\n    hire_date DATE NOT NULL\\n);\\n\\nCREATE TABLE departments (\\n    id INTEGER PRIMARY KEY,\\n    name TEXT NOT NULL,\\n    budget INTEGER NOT NULL,\\n    location TEXT NOT NULL\\n);\\n\\nCREATE TABLE projects (\\n    id INTEGER PRIMARY KEY,\\n    name TEXT NOT NULL,\\n    start_date DATE NOT NULL,\\n    end_date DATE,\\n    department_id INTEGER,\\n    FOREIGN KEY (department_id) REFERENCES departments (id)\\n);\\n\\nCREATE TABLE employee_projects (\\n    employee_id INTEGER,\\n    project_id INTEGER,\\n    role TEXT NOT NULL,\\n    PRIMARY KEY (employee_id, project_id),\\n    FOREIGN KEY (employee_id) REFERENCES employees (id),\\n    FOREIGN KEY (project_id) REFERENCES projects (id)\\n);\\n', 'question': 'What is the average salary of employees in the IT department?', 'sql_query': \"SELECT AVG(salary) FROM employees WHERE department = 'IT';\"}) (input_keys={'schema', 'question'}): empty separator. Set `provide_traceback=True` for traceback.\n"
     ]
    },
    {
     "name": "stdout",
     "output_type": "stream",
     "text": [
      "Average Metric: 0.00 / 1 (0.0%):  75%|███████▌  | 3/4 [02:16<00:46, 46.71s/it]"
     ]
    },
    {
     "name": "stderr",
     "output_type": "stream",
     "text": [
      "2025/03/12 10:49:14 ERROR dspy.utils.parallelizer: Error for Example({'schema': '\\nCREATE TABLE employees (\\n    id INTEGER PRIMARY KEY,\\n    name TEXT NOT NULL,\\n    department TEXT NOT NULL,\\n    salary INTEGER NOT NULL,\\n    hire_date DATE NOT NULL\\n);\\n\\nCREATE TABLE departments (\\n    id INTEGER PRIMARY KEY,\\n    name TEXT NOT NULL,\\n    budget INTEGER NOT NULL,\\n    location TEXT NOT NULL\\n);\\n\\nCREATE TABLE projects (\\n    id INTEGER PRIMARY KEY,\\n    name TEXT NOT NULL,\\n    start_date DATE NOT NULL,\\n    end_date DATE,\\n    department_id INTEGER,\\n    FOREIGN KEY (department_id) REFERENCES departments (id)\\n);\\n\\nCREATE TABLE employee_projects (\\n    employee_id INTEGER,\\n    project_id INTEGER,\\n    role TEXT NOT NULL,\\n    PRIMARY KEY (employee_id, project_id),\\n    FOREIGN KEY (employee_id) REFERENCES employees (id),\\n    FOREIGN KEY (project_id) REFERENCES projects (id)\\n);\\n', 'question': 'How many employees work in the Finance department?', 'sql_query': \"SELECT COUNT(*) FROM employees WHERE department = 'Finance';\"}) (input_keys={'schema', 'question'}): empty separator. Set `provide_traceback=True` for traceback.\n"
     ]
    },
    {
     "name": "stdout",
     "output_type": "stream",
     "text": [
      "Average Metric: 0.00 / 1 (0.0%): 100%|██████████| 4/4 [02:45<00:00, 41.45s/it]"
     ]
    },
    {
     "name": "stderr",
     "output_type": "stream",
     "text": [
      "2025/03/12 10:49:14 INFO dspy.evaluate.evaluate: Average Metric: 0.0 / 4 (0.0%)\n",
      "2025/03/12 10:49:14 INFO dspy.teleprompt.mipro_optimizer_v2: Default program score: 0.0\n",
      "\n",
      "/opt/conda/lib/python3.12/site-packages/optuna/_experimental.py:31: ExperimentalWarning: Argument ``multivariate`` is an experimental feature. The interface can change in the future.\n",
      "  warnings.warn(\n",
      "2025/03/12 10:49:14 INFO dspy.teleprompt.mipro_optimizer_v2: ===== Trial 2 / 7 =====\n"
     ]
    },
    {
     "name": "stdout",
     "output_type": "stream",
     "text": [
      "\n",
      "  0%|          | 0/4 [00:00<?, ?it/s]"
     ]
    },
    {
     "name": "stderr",
     "output_type": "stream",
     "text": [
      "2025/03/12 10:50:03 ERROR dspy.utils.parallelizer: Error for Example({'schema': '\\nCREATE TABLE employees (\\n    id INTEGER PRIMARY KEY,\\n    name TEXT NOT NULL,\\n    department TEXT NOT NULL,\\n    salary INTEGER NOT NULL,\\n    hire_date DATE NOT NULL\\n);\\n\\nCREATE TABLE departments (\\n    id INTEGER PRIMARY KEY,\\n    name TEXT NOT NULL,\\n    budget INTEGER NOT NULL,\\n    location TEXT NOT NULL\\n);\\n\\nCREATE TABLE projects (\\n    id INTEGER PRIMARY KEY,\\n    name TEXT NOT NULL,\\n    start_date DATE NOT NULL,\\n    end_date DATE,\\n    department_id INTEGER,\\n    FOREIGN KEY (department_id) REFERENCES departments (id)\\n);\\n\\nCREATE TABLE employee_projects (\\n    employee_id INTEGER,\\n    project_id INTEGER,\\n    role TEXT NOT NULL,\\n    PRIMARY KEY (employee_id, project_id),\\n    FOREIGN KEY (employee_id) REFERENCES employees (id),\\n    FOREIGN KEY (project_id) REFERENCES projects (id)\\n);\\n', 'question': 'List the names of employees who work on the Marketing project.', 'sql_query': \"SELECT e.name FROM employees e JOIN employee_projects ep ON e.id = ep.employee_id JOIN projects p ON ep.project_id = p.id WHERE p.name = 'Marketing';\"}) (input_keys={'schema', 'question'}): empty separator. Set `provide_traceback=True` for traceback.\n"
     ]
    },
    {
     "name": "stdout",
     "output_type": "stream",
     "text": [
      "Average Metric: 0.03 / 1 (3.3%):  50%|█████     | 2/4 [01:14<01:10, 35.07s/it]"
     ]
    },
    {
     "name": "stderr",
     "output_type": "stream",
     "text": [
      "2025/03/12 10:50:59 ERROR dspy.utils.parallelizer: Error for Example({'schema': '\\nCREATE TABLE employees (\\n    id INTEGER PRIMARY KEY,\\n    name TEXT NOT NULL,\\n    department TEXT NOT NULL,\\n    salary INTEGER NOT NULL,\\n    hire_date DATE NOT NULL\\n);\\n\\nCREATE TABLE departments (\\n    id INTEGER PRIMARY KEY,\\n    name TEXT NOT NULL,\\n    budget INTEGER NOT NULL,\\n    location TEXT NOT NULL\\n);\\n\\nCREATE TABLE projects (\\n    id INTEGER PRIMARY KEY,\\n    name TEXT NOT NULL,\\n    start_date DATE NOT NULL,\\n    end_date DATE,\\n    department_id INTEGER,\\n    FOREIGN KEY (department_id) REFERENCES departments (id)\\n);\\n\\nCREATE TABLE employee_projects (\\n    employee_id INTEGER,\\n    project_id INTEGER,\\n    role TEXT NOT NULL,\\n    PRIMARY KEY (employee_id, project_id),\\n    FOREIGN KEY (employee_id) REFERENCES employees (id),\\n    FOREIGN KEY (project_id) REFERENCES projects (id)\\n);\\n', 'question': 'What is the average salary of employees in the IT department?', 'sql_query': \"SELECT AVG(salary) FROM employees WHERE department = 'IT';\"}) (input_keys={'schema', 'question'}): empty separator. Set `provide_traceback=True` for traceback.\n"
     ]
    },
    {
     "name": "stdout",
     "output_type": "stream",
     "text": [
      "Average Metric: 0.03 / 1 (3.3%):  75%|███████▌  | 3/4 [01:44<00:32, 32.95s/it]"
     ]
    },
    {
     "name": "stderr",
     "output_type": "stream",
     "text": [
      "2025/03/12 10:51:35 ERROR dspy.utils.parallelizer: Error for Example({'schema': '\\nCREATE TABLE employees (\\n    id INTEGER PRIMARY KEY,\\n    name TEXT NOT NULL,\\n    department TEXT NOT NULL,\\n    salary INTEGER NOT NULL,\\n    hire_date DATE NOT NULL\\n);\\n\\nCREATE TABLE departments (\\n    id INTEGER PRIMARY KEY,\\n    name TEXT NOT NULL,\\n    budget INTEGER NOT NULL,\\n    location TEXT NOT NULL\\n);\\n\\nCREATE TABLE projects (\\n    id INTEGER PRIMARY KEY,\\n    name TEXT NOT NULL,\\n    start_date DATE NOT NULL,\\n    end_date DATE,\\n    department_id INTEGER,\\n    FOREIGN KEY (department_id) REFERENCES departments (id)\\n);\\n\\nCREATE TABLE employee_projects (\\n    employee_id INTEGER,\\n    project_id INTEGER,\\n    role TEXT NOT NULL,\\n    PRIMARY KEY (employee_id, project_id),\\n    FOREIGN KEY (employee_id) REFERENCES employees (id),\\n    FOREIGN KEY (project_id) REFERENCES projects (id)\\n);\\n', 'question': 'How many employees work in the Finance department?', 'sql_query': \"SELECT COUNT(*) FROM employees WHERE department = 'Finance';\"}) (input_keys={'schema', 'question'}): empty separator. Set `provide_traceback=True` for traceback.\n"
     ]
    },
    {
     "name": "stdout",
     "output_type": "stream",
     "text": [
      "Average Metric: 0.03 / 1 (3.3%): 100%|██████████| 4/4 [02:21<00:00, 35.31s/it]"
     ]
    },
    {
     "name": "stderr",
     "output_type": "stream",
     "text": [
      "2025/03/12 10:51:35 INFO dspy.evaluate.evaluate: Average Metric: 0.03333333333333333 / 4 (0.8%)\n",
      "2025/03/12 10:51:35 INFO dspy.teleprompt.mipro_optimizer_v2: \u001b[92mBest full score so far!\u001b[0m Score: 0.83\n",
      "2025/03/12 10:51:35 INFO dspy.teleprompt.mipro_optimizer_v2: Score: 0.83 with parameters ['Predictor 0: Instruction 1', 'Predictor 0: Few-Shot Set 1'].\n",
      "2025/03/12 10:51:35 INFO dspy.teleprompt.mipro_optimizer_v2: Scores so far: [0.0, 0.83]\n",
      "2025/03/12 10:51:35 INFO dspy.teleprompt.mipro_optimizer_v2: Best score so far: 0.83\n",
      "2025/03/12 10:51:35 INFO dspy.teleprompt.mipro_optimizer_v2: =======================\n",
      "\n",
      "\n",
      "2025/03/12 10:51:35 INFO dspy.teleprompt.mipro_optimizer_v2: ===== Trial 3 / 7 =====\n"
     ]
    },
    {
     "name": "stdout",
     "output_type": "stream",
     "text": [
      "\n",
      "  0%|          | 0/4 [00:00<?, ?it/s]"
     ]
    },
    {
     "name": "stderr",
     "output_type": "stream",
     "text": [
      "2025/03/12 10:52:12 ERROR dspy.utils.parallelizer: Error for Example({'schema': '\\nCREATE TABLE employees (\\n    id INTEGER PRIMARY KEY,\\n    name TEXT NOT NULL,\\n    department TEXT NOT NULL,\\n    salary INTEGER NOT NULL,\\n    hire_date DATE NOT NULL\\n);\\n\\nCREATE TABLE departments (\\n    id INTEGER PRIMARY KEY,\\n    name TEXT NOT NULL,\\n    budget INTEGER NOT NULL,\\n    location TEXT NOT NULL\\n);\\n\\nCREATE TABLE projects (\\n    id INTEGER PRIMARY KEY,\\n    name TEXT NOT NULL,\\n    start_date DATE NOT NULL,\\n    end_date DATE,\\n    department_id INTEGER,\\n    FOREIGN KEY (department_id) REFERENCES departments (id)\\n);\\n\\nCREATE TABLE employee_projects (\\n    employee_id INTEGER,\\n    project_id INTEGER,\\n    role TEXT NOT NULL,\\n    PRIMARY KEY (employee_id, project_id),\\n    FOREIGN KEY (employee_id) REFERENCES employees (id),\\n    FOREIGN KEY (project_id) REFERENCES projects (id)\\n);\\n', 'question': 'List the names of employees who work on the Marketing project.', 'sql_query': \"SELECT e.name FROM employees e JOIN employee_projects ep ON e.id = ep.employee_id JOIN projects p ON ep.project_id = p.id WHERE p.name = 'Marketing';\"}) (input_keys={'schema', 'question'}): empty separator. Set `provide_traceback=True` for traceback.\n"
     ]
    },
    {
     "name": "stdout",
     "output_type": "stream",
     "text": [
      "Average Metric: 0.24 / 1 (24.0%):  50%|█████     | 2/4 [00:55<00:52, 26.35s/it]"
     ]
    },
    {
     "name": "stderr",
     "output_type": "stream",
     "text": [
      "2025/03/12 10:53:07 ERROR dspy.utils.parallelizer: Error for Example({'schema': '\\nCREATE TABLE employees (\\n    id INTEGER PRIMARY KEY,\\n    name TEXT NOT NULL,\\n    department TEXT NOT NULL,\\n    salary INTEGER NOT NULL,\\n    hire_date DATE NOT NULL\\n);\\n\\nCREATE TABLE departments (\\n    id INTEGER PRIMARY KEY,\\n    name TEXT NOT NULL,\\n    budget INTEGER NOT NULL,\\n    location TEXT NOT NULL\\n);\\n\\nCREATE TABLE projects (\\n    id INTEGER PRIMARY KEY,\\n    name TEXT NOT NULL,\\n    start_date DATE NOT NULL,\\n    end_date DATE,\\n    department_id INTEGER,\\n    FOREIGN KEY (department_id) REFERENCES departments (id)\\n);\\n\\nCREATE TABLE employee_projects (\\n    employee_id INTEGER,\\n    project_id INTEGER,\\n    role TEXT NOT NULL,\\n    PRIMARY KEY (employee_id, project_id),\\n    FOREIGN KEY (employee_id) REFERENCES employees (id),\\n    FOREIGN KEY (project_id) REFERENCES projects (id)\\n);\\n', 'question': 'What is the average salary of employees in the IT department?', 'sql_query': \"SELECT AVG(salary) FROM employees WHERE department = 'IT';\"}) (input_keys={'schema', 'question'}): empty separator. Set `provide_traceback=True` for traceback.\n"
     ]
    },
    {
     "name": "stdout",
     "output_type": "stream",
     "text": [
      "Average Metric: 1.24 / 2 (62.0%): 100%|██████████| 4/4 [01:56<00:00, 29.05s/it]"
     ]
    },
    {
     "name": "stderr",
     "output_type": "stream",
     "text": [
      "2025/03/12 10:53:32 INFO dspy.evaluate.evaluate: Average Metric: 1.24 / 4 (31.0%)\n",
      "2025/03/12 10:53:32 INFO dspy.teleprompt.mipro_optimizer_v2: \u001b[92mBest full score so far!\u001b[0m Score: 31.0\n",
      "2025/03/12 10:53:32 INFO dspy.teleprompt.mipro_optimizer_v2: Score: 31.0 with parameters ['Predictor 0: Instruction 2', 'Predictor 0: Few-Shot Set 1'].\n",
      "2025/03/12 10:53:32 INFO dspy.teleprompt.mipro_optimizer_v2: Scores so far: [0.0, 0.83, 31.0]\n",
      "2025/03/12 10:53:32 INFO dspy.teleprompt.mipro_optimizer_v2: Best score so far: 31.0\n",
      "2025/03/12 10:53:32 INFO dspy.teleprompt.mipro_optimizer_v2: =======================\n",
      "\n",
      "\n",
      "2025/03/12 10:53:32 INFO dspy.teleprompt.mipro_optimizer_v2: ===== Trial 4 / 7 =====\n"
     ]
    },
    {
     "name": "stdout",
     "output_type": "stream",
     "text": [
      "\n",
      "  0%|          | 0/4 [00:00<?, ?it/s]"
     ]
    },
    {
     "name": "stderr",
     "output_type": "stream",
     "text": [
      "2025/03/12 10:54:27 ERROR dspy.utils.parallelizer: Error for Example({'schema': '\\nCREATE TABLE employees (\\n    id INTEGER PRIMARY KEY,\\n    name TEXT NOT NULL,\\n    department TEXT NOT NULL,\\n    salary INTEGER NOT NULL,\\n    hire_date DATE NOT NULL\\n);\\n\\nCREATE TABLE departments (\\n    id INTEGER PRIMARY KEY,\\n    name TEXT NOT NULL,\\n    budget INTEGER NOT NULL,\\n    location TEXT NOT NULL\\n);\\n\\nCREATE TABLE projects (\\n    id INTEGER PRIMARY KEY,\\n    name TEXT NOT NULL,\\n    start_date DATE NOT NULL,\\n    end_date DATE,\\n    department_id INTEGER,\\n    FOREIGN KEY (department_id) REFERENCES departments (id)\\n);\\n\\nCREATE TABLE employee_projects (\\n    employee_id INTEGER,\\n    project_id INTEGER,\\n    role TEXT NOT NULL,\\n    PRIMARY KEY (employee_id, project_id),\\n    FOREIGN KEY (employee_id) REFERENCES employees (id),\\n    FOREIGN KEY (project_id) REFERENCES projects (id)\\n);\\n', 'question': 'List the names of employees who work on the Marketing project.', 'sql_query': \"SELECT e.name FROM employees e JOIN employee_projects ep ON e.id = ep.employee_id JOIN projects p ON ep.project_id = p.id WHERE p.name = 'Marketing';\"}) (input_keys={'schema', 'question'}): empty separator. Set `provide_traceback=True` for traceback.\n"
     ]
    },
    {
     "name": "stdout",
     "output_type": "stream",
     "text": [
      "Average Metric: 0.00 / 0 (0%):  25%|██▌       | 1/4 [00:55<02:45, 55.07s/it]"
     ]
    },
    {
     "name": "stderr",
     "output_type": "stream",
     "text": [
      "2025/03/12 10:54:53 ERROR dspy.utils.parallelizer: Error for Example({'schema': '\\nCREATE TABLE employees (\\n    id INTEGER PRIMARY KEY,\\n    name TEXT NOT NULL,\\n    department TEXT NOT NULL,\\n    salary INTEGER NOT NULL,\\n    hire_date DATE NOT NULL\\n);\\n\\nCREATE TABLE departments (\\n    id INTEGER PRIMARY KEY,\\n    name TEXT NOT NULL,\\n    budget INTEGER NOT NULL,\\n    location TEXT NOT NULL\\n);\\n\\nCREATE TABLE projects (\\n    id INTEGER PRIMARY KEY,\\n    name TEXT NOT NULL,\\n    start_date DATE NOT NULL,\\n    end_date DATE,\\n    department_id INTEGER,\\n    FOREIGN KEY (department_id) REFERENCES departments (id)\\n);\\n\\nCREATE TABLE employee_projects (\\n    employee_id INTEGER,\\n    project_id INTEGER,\\n    role TEXT NOT NULL,\\n    PRIMARY KEY (employee_id, project_id),\\n    FOREIGN KEY (employee_id) REFERENCES employees (id),\\n    FOREIGN KEY (project_id) REFERENCES projects (id)\\n);\\n', 'question': 'Which department has the highest budget?', 'sql_query': 'SELECT name FROM departments ORDER BY budget DESC LIMIT 1;'}) (input_keys={'schema', 'question'}): empty separator. Set `provide_traceback=True` for traceback.\n"
     ]
    },
    {
     "name": "stdout",
     "output_type": "stream",
     "text": [
      "Average Metric: 0.00 / 0 (0%):  50%|█████     | 2/4 [01:21<01:16, 38.11s/it]"
     ]
    },
    {
     "name": "stderr",
     "output_type": "stream",
     "text": [
      "2025/03/12 10:55:29 ERROR dspy.utils.parallelizer: Error for Example({'schema': '\\nCREATE TABLE employees (\\n    id INTEGER PRIMARY KEY,\\n    name TEXT NOT NULL,\\n    department TEXT NOT NULL,\\n    salary INTEGER NOT NULL,\\n    hire_date DATE NOT NULL\\n);\\n\\nCREATE TABLE departments (\\n    id INTEGER PRIMARY KEY,\\n    name TEXT NOT NULL,\\n    budget INTEGER NOT NULL,\\n    location TEXT NOT NULL\\n);\\n\\nCREATE TABLE projects (\\n    id INTEGER PRIMARY KEY,\\n    name TEXT NOT NULL,\\n    start_date DATE NOT NULL,\\n    end_date DATE,\\n    department_id INTEGER,\\n    FOREIGN KEY (department_id) REFERENCES departments (id)\\n);\\n\\nCREATE TABLE employee_projects (\\n    employee_id INTEGER,\\n    project_id INTEGER,\\n    role TEXT NOT NULL,\\n    PRIMARY KEY (employee_id, project_id),\\n    FOREIGN KEY (employee_id) REFERENCES employees (id),\\n    FOREIGN KEY (project_id) REFERENCES projects (id)\\n);\\n', 'question': 'What is the average salary of employees in the IT department?', 'sql_query': \"SELECT AVG(salary) FROM employees WHERE department = 'IT';\"}) (input_keys={'schema', 'question'}): empty separator. Set `provide_traceback=True` for traceback.\n"
     ]
    },
    {
     "name": "stdout",
     "output_type": "stream",
     "text": [
      "Average Metric: 0.00 / 0 (0%):  75%|███████▌  | 3/4 [01:56<00:36, 36.98s/it]"
     ]
    },
    {
     "name": "stderr",
     "output_type": "stream",
     "text": [
      "2025/03/12 10:55:51 ERROR dspy.utils.parallelizer: Error for Example({'schema': '\\nCREATE TABLE employees (\\n    id INTEGER PRIMARY KEY,\\n    name TEXT NOT NULL,\\n    department TEXT NOT NULL,\\n    salary INTEGER NOT NULL,\\n    hire_date DATE NOT NULL\\n);\\n\\nCREATE TABLE departments (\\n    id INTEGER PRIMARY KEY,\\n    name TEXT NOT NULL,\\n    budget INTEGER NOT NULL,\\n    location TEXT NOT NULL\\n);\\n\\nCREATE TABLE projects (\\n    id INTEGER PRIMARY KEY,\\n    name TEXT NOT NULL,\\n    start_date DATE NOT NULL,\\n    end_date DATE,\\n    department_id INTEGER,\\n    FOREIGN KEY (department_id) REFERENCES departments (id)\\n);\\n\\nCREATE TABLE employee_projects (\\n    employee_id INTEGER,\\n    project_id INTEGER,\\n    role TEXT NOT NULL,\\n    PRIMARY KEY (employee_id, project_id),\\n    FOREIGN KEY (employee_id) REFERENCES employees (id),\\n    FOREIGN KEY (project_id) REFERENCES projects (id)\\n);\\n', 'question': 'How many employees work in the Finance department?', 'sql_query': \"SELECT COUNT(*) FROM employees WHERE department = 'Finance';\"}) (input_keys={'schema', 'question'}): empty separator. Set `provide_traceback=True` for traceback.\n"
     ]
    },
    {
     "name": "stdout",
     "output_type": "stream",
     "text": [
      "Average Metric: 0.00 / 0 (0%): 100%|██████████| 4/4 [02:18<00:00, 34.73s/it]"
     ]
    },
    {
     "name": "stderr",
     "output_type": "stream",
     "text": [
      "2025/03/12 10:55:51 INFO dspy.evaluate.evaluate: Average Metric: 0.0 / 4 (0.0%)\n",
      "2025/03/12 10:55:51 INFO dspy.teleprompt.mipro_optimizer_v2: Score: 0.0 with parameters ['Predictor 0: Instruction 4', 'Predictor 0: Few-Shot Set 1'].\n",
      "2025/03/12 10:55:51 INFO dspy.teleprompt.mipro_optimizer_v2: Scores so far: [0.0, 0.83, 31.0, 0.0]\n",
      "2025/03/12 10:55:51 INFO dspy.teleprompt.mipro_optimizer_v2: Best score so far: 31.0\n",
      "2025/03/12 10:55:51 INFO dspy.teleprompt.mipro_optimizer_v2: =======================\n",
      "\n",
      "\n",
      "2025/03/12 10:55:51 INFO dspy.teleprompt.mipro_optimizer_v2: ===== Trial 5 / 7 =====\n",
      "2025/03/12 10:55:51 ERROR dspy.utils.parallelizer: Error for Example({'schema': '\\nCREATE TABLE employees (\\n    id INTEGER PRIMARY KEY,\\n    name TEXT NOT NULL,\\n    department TEXT NOT NULL,\\n    salary INTEGER NOT NULL,\\n    hire_date DATE NOT NULL\\n);\\n\\nCREATE TABLE departments (\\n    id INTEGER PRIMARY KEY,\\n    name TEXT NOT NULL,\\n    budget INTEGER NOT NULL,\\n    location TEXT NOT NULL\\n);\\n\\nCREATE TABLE projects (\\n    id INTEGER PRIMARY KEY,\\n    name TEXT NOT NULL,\\n    start_date DATE NOT NULL,\\n    end_date DATE,\\n    department_id INTEGER,\\n    FOREIGN KEY (department_id) REFERENCES departments (id)\\n);\\n\\nCREATE TABLE employee_projects (\\n    employee_id INTEGER,\\n    project_id INTEGER,\\n    role TEXT NOT NULL,\\n    PRIMARY KEY (employee_id, project_id),\\n    FOREIGN KEY (employee_id) REFERENCES employees (id),\\n    FOREIGN KEY (project_id) REFERENCES projects (id)\\n);\\n', 'question': 'List the names of employees who work on the Marketing project.', 'sql_query': \"SELECT e.name FROM employees e JOIN employee_projects ep ON e.id = ep.employee_id JOIN projects p ON ep.project_id = p.id WHERE p.name = 'Marketing';\"}) (input_keys={'schema', 'question'}): empty separator. Set `provide_traceback=True` for traceback.\n",
      "2025/03/12 10:55:51 ERROR dspy.utils.parallelizer: Error for Example({'schema': '\\nCREATE TABLE employees (\\n    id INTEGER PRIMARY KEY,\\n    name TEXT NOT NULL,\\n    department TEXT NOT NULL,\\n    salary INTEGER NOT NULL,\\n    hire_date DATE NOT NULL\\n);\\n\\nCREATE TABLE departments (\\n    id INTEGER PRIMARY KEY,\\n    name TEXT NOT NULL,\\n    budget INTEGER NOT NULL,\\n    location TEXT NOT NULL\\n);\\n\\nCREATE TABLE projects (\\n    id INTEGER PRIMARY KEY,\\n    name TEXT NOT NULL,\\n    start_date DATE NOT NULL,\\n    end_date DATE,\\n    department_id INTEGER,\\n    FOREIGN KEY (department_id) REFERENCES departments (id)\\n);\\n\\nCREATE TABLE employee_projects (\\n    employee_id INTEGER,\\n    project_id INTEGER,\\n    role TEXT NOT NULL,\\n    PRIMARY KEY (employee_id, project_id),\\n    FOREIGN KEY (employee_id) REFERENCES employees (id),\\n    FOREIGN KEY (project_id) REFERENCES projects (id)\\n);\\n', 'question': 'What is the average salary of employees in the IT department?', 'sql_query': \"SELECT AVG(salary) FROM employees WHERE department = 'IT';\"}) (input_keys={'schema', 'question'}): empty separator. Set `provide_traceback=True` for traceback.\n"
     ]
    },
    {
     "name": "stdout",
     "output_type": "stream",
     "text": [
      "\n",
      "Average Metric: 1.24 / 2 (62.0%): 100%|██████████| 4/4 [00:00<00:00, 355.07it/s]"
     ]
    },
    {
     "name": "stderr",
     "output_type": "stream",
     "text": [
      "2025/03/12 10:55:51 INFO dspy.evaluate.evaluate: Average Metric: 1.24 / 4 (31.0%)\n",
      "2025/03/12 10:55:51 INFO dspy.teleprompt.mipro_optimizer_v2: Score: 31.0 with parameters ['Predictor 0: Instruction 2', 'Predictor 0: Few-Shot Set 1'].\n",
      "2025/03/12 10:55:51 INFO dspy.teleprompt.mipro_optimizer_v2: Scores so far: [0.0, 0.83, 31.0, 0.0, 31.0]\n",
      "2025/03/12 10:55:51 INFO dspy.teleprompt.mipro_optimizer_v2: Best score so far: 31.0\n",
      "2025/03/12 10:55:51 INFO dspy.teleprompt.mipro_optimizer_v2: =======================\n",
      "\n",
      "\n",
      "2025/03/12 10:55:51 INFO dspy.teleprompt.mipro_optimizer_v2: ===== Trial 6 / 7 =====\n",
      "2025/03/12 10:55:51 ERROR dspy.utils.parallelizer: Error for Example({'schema': '\\nCREATE TABLE employees (\\n    id INTEGER PRIMARY KEY,\\n    name TEXT NOT NULL,\\n    department TEXT NOT NULL,\\n    salary INTEGER NOT NULL,\\n    hire_date DATE NOT NULL\\n);\\n\\nCREATE TABLE departments (\\n    id INTEGER PRIMARY KEY,\\n    name TEXT NOT NULL,\\n    budget INTEGER NOT NULL,\\n    location TEXT NOT NULL\\n);\\n\\nCREATE TABLE projects (\\n    id INTEGER PRIMARY KEY,\\n    name TEXT NOT NULL,\\n    start_date DATE NOT NULL,\\n    end_date DATE,\\n    department_id INTEGER,\\n    FOREIGN KEY (department_id) REFERENCES departments (id)\\n);\\n\\nCREATE TABLE employee_projects (\\n    employee_id INTEGER,\\n    project_id INTEGER,\\n    role TEXT NOT NULL,\\n    PRIMARY KEY (employee_id, project_id),\\n    FOREIGN KEY (employee_id) REFERENCES employees (id),\\n    FOREIGN KEY (project_id) REFERENCES projects (id)\\n);\\n', 'question': 'List the names of employees who work on the Marketing project.', 'sql_query': \"SELECT e.name FROM employees e JOIN employee_projects ep ON e.id = ep.employee_id JOIN projects p ON ep.project_id = p.id WHERE p.name = 'Marketing';\"}) (input_keys={'schema', 'question'}): empty separator. Set `provide_traceback=True` for traceback.\n"
     ]
    },
    {
     "name": "stdout",
     "output_type": "stream",
     "text": [
      "\n"
     ]
    },
    {
     "name": "stderr",
     "output_type": "stream",
     "text": [
      "2025/03/12 10:55:51 ERROR dspy.utils.parallelizer: Error for Example({'schema': '\\nCREATE TABLE employees (\\n    id INTEGER PRIMARY KEY,\\n    name TEXT NOT NULL,\\n    department TEXT NOT NULL,\\n    salary INTEGER NOT NULL,\\n    hire_date DATE NOT NULL\\n);\\n\\nCREATE TABLE departments (\\n    id INTEGER PRIMARY KEY,\\n    name TEXT NOT NULL,\\n    budget INTEGER NOT NULL,\\n    location TEXT NOT NULL\\n);\\n\\nCREATE TABLE projects (\\n    id INTEGER PRIMARY KEY,\\n    name TEXT NOT NULL,\\n    start_date DATE NOT NULL,\\n    end_date DATE,\\n    department_id INTEGER,\\n    FOREIGN KEY (department_id) REFERENCES departments (id)\\n);\\n\\nCREATE TABLE employee_projects (\\n    employee_id INTEGER,\\n    project_id INTEGER,\\n    role TEXT NOT NULL,\\n    PRIMARY KEY (employee_id, project_id),\\n    FOREIGN KEY (employee_id) REFERENCES employees (id),\\n    FOREIGN KEY (project_id) REFERENCES projects (id)\\n);\\n', 'question': 'Which department has the highest budget?', 'sql_query': 'SELECT name FROM departments ORDER BY budget DESC LIMIT 1;'}) (input_keys={'schema', 'question'}): empty separator. Set `provide_traceback=True` for traceback.\n"
     ]
    },
    {
     "name": "stdout",
     "output_type": "stream",
     "text": [
      "  0%|          | 0/4 [00:00<?, ?it/s]"
     ]
    },
    {
     "name": "stderr",
     "output_type": "stream",
     "text": [
      "2025/03/12 10:55:51 ERROR dspy.utils.parallelizer: Error for Example({'schema': '\\nCREATE TABLE employees (\\n    id INTEGER PRIMARY KEY,\\n    name TEXT NOT NULL,\\n    department TEXT NOT NULL,\\n    salary INTEGER NOT NULL,\\n    hire_date DATE NOT NULL\\n);\\n\\nCREATE TABLE departments (\\n    id INTEGER PRIMARY KEY,\\n    name TEXT NOT NULL,\\n    budget INTEGER NOT NULL,\\n    location TEXT NOT NULL\\n);\\n\\nCREATE TABLE projects (\\n    id INTEGER PRIMARY KEY,\\n    name TEXT NOT NULL,\\n    start_date DATE NOT NULL,\\n    end_date DATE,\\n    department_id INTEGER,\\n    FOREIGN KEY (department_id) REFERENCES departments (id)\\n);\\n\\nCREATE TABLE employee_projects (\\n    employee_id INTEGER,\\n    project_id INTEGER,\\n    role TEXT NOT NULL,\\n    PRIMARY KEY (employee_id, project_id),\\n    FOREIGN KEY (employee_id) REFERENCES employees (id),\\n    FOREIGN KEY (project_id) REFERENCES projects (id)\\n);\\n', 'question': 'What is the average salary of employees in the IT department?', 'sql_query': \"SELECT AVG(salary) FROM employees WHERE department = 'IT';\"}) (input_keys={'schema', 'question'}): empty separator. Set `provide_traceback=True` for traceback.\n"
     ]
    },
    {
     "name": "stdout",
     "output_type": "stream",
     "text": [
      "Average Metric: 0.00 / 0 (0%):   0%|          | 0/4 [00:00<?, ?it/s]"
     ]
    },
    {
     "name": "stderr",
     "output_type": "stream",
     "text": [
      "2025/03/12 10:55:51 ERROR dspy.utils.parallelizer: Error for Example({'schema': '\\nCREATE TABLE employees (\\n    id INTEGER PRIMARY KEY,\\n    name TEXT NOT NULL,\\n    department TEXT NOT NULL,\\n    salary INTEGER NOT NULL,\\n    hire_date DATE NOT NULL\\n);\\n\\nCREATE TABLE departments (\\n    id INTEGER PRIMARY KEY,\\n    name TEXT NOT NULL,\\n    budget INTEGER NOT NULL,\\n    location TEXT NOT NULL\\n);\\n\\nCREATE TABLE projects (\\n    id INTEGER PRIMARY KEY,\\n    name TEXT NOT NULL,\\n    start_date DATE NOT NULL,\\n    end_date DATE,\\n    department_id INTEGER,\\n    FOREIGN KEY (department_id) REFERENCES departments (id)\\n);\\n\\nCREATE TABLE employee_projects (\\n    employee_id INTEGER,\\n    project_id INTEGER,\\n    role TEXT NOT NULL,\\n    PRIMARY KEY (employee_id, project_id),\\n    FOREIGN KEY (employee_id) REFERENCES employees (id),\\n    FOREIGN KEY (project_id) REFERENCES projects (id)\\n);\\n', 'question': 'How many employees work in the Finance department?', 'sql_query': \"SELECT COUNT(*) FROM employees WHERE department = 'Finance';\"}) (input_keys={'schema', 'question'}): empty separator. Set `provide_traceback=True` for traceback.\n"
     ]
    },
    {
     "name": "stdout",
     "output_type": "stream",
     "text": [
      "Average Metric: 0.00 / 0 (0%): 100%|██████████| 4/4 [00:00<00:00, 250.93it/s]"
     ]
    },
    {
     "name": "stderr",
     "output_type": "stream",
     "text": [
      "2025/03/12 10:55:51 INFO dspy.evaluate.evaluate: Average Metric: 0.0 / 4 (0.0%)\n",
      "2025/03/12 10:55:51 INFO dspy.teleprompt.mipro_optimizer_v2: Score: 0.0 with parameters ['Predictor 0: Instruction 4', 'Predictor 0: Few-Shot Set 3'].\n",
      "2025/03/12 10:55:51 INFO dspy.teleprompt.mipro_optimizer_v2: Scores so far: [0.0, 0.83, 31.0, 0.0, 31.0, 0.0]\n",
      "2025/03/12 10:55:51 INFO dspy.teleprompt.mipro_optimizer_v2: Best score so far: 31.0\n",
      "2025/03/12 10:55:51 INFO dspy.teleprompt.mipro_optimizer_v2: =======================\n",
      "\n",
      "\n",
      "2025/03/12 10:55:51 INFO dspy.teleprompt.mipro_optimizer_v2: ===== Trial 7 / 7 =====\n",
      "2025/03/12 10:55:51 ERROR dspy.utils.parallelizer: Error for Example({'schema': '\\nCREATE TABLE employees (\\n    id INTEGER PRIMARY KEY,\\n    name TEXT NOT NULL,\\n    department TEXT NOT NULL,\\n    salary INTEGER NOT NULL,\\n    hire_date DATE NOT NULL\\n);\\n\\nCREATE TABLE departments (\\n    id INTEGER PRIMARY KEY,\\n    name TEXT NOT NULL,\\n    budget INTEGER NOT NULL,\\n    location TEXT NOT NULL\\n);\\n\\nCREATE TABLE projects (\\n    id INTEGER PRIMARY KEY,\\n    name TEXT NOT NULL,\\n    start_date DATE NOT NULL,\\n    end_date DATE,\\n    department_id INTEGER,\\n    FOREIGN KEY (department_id) REFERENCES departments (id)\\n);\\n\\nCREATE TABLE employee_projects (\\n    employee_id INTEGER,\\n    project_id INTEGER,\\n    role TEXT NOT NULL,\\n    PRIMARY KEY (employee_id, project_id),\\n    FOREIGN KEY (employee_id) REFERENCES employees (id),\\n    FOREIGN KEY (project_id) REFERENCES projects (id)\\n);\\n', 'question': 'List the names of employees who work on the Marketing project.', 'sql_query': \"SELECT e.name FROM employees e JOIN employee_projects ep ON e.id = ep.employee_id JOIN projects p ON ep.project_id = p.id WHERE p.name = 'Marketing';\"}) (input_keys={'schema', 'question'}): empty separator. Set `provide_traceback=True` for traceback.\n"
     ]
    },
    {
     "name": "stdout",
     "output_type": "stream",
     "text": [
      "\n"
     ]
    },
    {
     "name": "stderr",
     "output_type": "stream",
     "text": [
      "2025/03/12 10:55:51 ERROR dspy.utils.parallelizer: Error for Example({'schema': '\\nCREATE TABLE employees (\\n    id INTEGER PRIMARY KEY,\\n    name TEXT NOT NULL,\\n    department TEXT NOT NULL,\\n    salary INTEGER NOT NULL,\\n    hire_date DATE NOT NULL\\n);\\n\\nCREATE TABLE departments (\\n    id INTEGER PRIMARY KEY,\\n    name TEXT NOT NULL,\\n    budget INTEGER NOT NULL,\\n    location TEXT NOT NULL\\n);\\n\\nCREATE TABLE projects (\\n    id INTEGER PRIMARY KEY,\\n    name TEXT NOT NULL,\\n    start_date DATE NOT NULL,\\n    end_date DATE,\\n    department_id INTEGER,\\n    FOREIGN KEY (department_id) REFERENCES departments (id)\\n);\\n\\nCREATE TABLE employee_projects (\\n    employee_id INTEGER,\\n    project_id INTEGER,\\n    role TEXT NOT NULL,\\n    PRIMARY KEY (employee_id, project_id),\\n    FOREIGN KEY (employee_id) REFERENCES employees (id),\\n    FOREIGN KEY (project_id) REFERENCES projects (id)\\n);\\n', 'question': 'What is the average salary of employees in the IT department?', 'sql_query': \"SELECT AVG(salary) FROM employees WHERE department = 'IT';\"}) (input_keys={'schema', 'question'}): empty separator. Set `provide_traceback=True` for traceback.\n"
     ]
    },
    {
     "name": "stdout",
     "output_type": "stream",
     "text": [
      "Average Metric: 1.24 / 2 (62.0%): 100%|██████████| 4/4 [00:00<00:00, 378.46it/s]"
     ]
    },
    {
     "name": "stderr",
     "output_type": "stream",
     "text": [
      "2025/03/12 10:55:51 INFO dspy.evaluate.evaluate: Average Metric: 1.24 / 4 (31.0%)\n",
      "2025/03/12 10:55:51 INFO dspy.teleprompt.mipro_optimizer_v2: Score: 31.0 with parameters ['Predictor 0: Instruction 0', 'Predictor 0: Few-Shot Set 1'].\n"
     ]
    },
    {
     "name": "stdout",
     "output_type": "stream",
     "text": [
      "\n"
     ]
    },
    {
     "name": "stderr",
     "output_type": "stream",
     "text": [
      "2025/03/12 10:55:51 INFO dspy.teleprompt.mipro_optimizer_v2: Scores so far: [0.0, 0.83, 31.0, 0.0, 31.0, 0.0, 31.0]\n",
      "2025/03/12 10:55:51 INFO dspy.teleprompt.mipro_optimizer_v2: Best score so far: 31.0\n",
      "2025/03/12 10:55:51 INFO dspy.teleprompt.mipro_optimizer_v2: =======================\n",
      "\n",
      "\n",
      "2025/03/12 10:55:51 INFO dspy.teleprompt.mipro_optimizer_v2: Returning best identified program with score 31.0!\n"
     ]
    },
    {
     "name": "stdout",
     "output_type": "stream",
     "text": [
      "Optimization complete!\n",
      "Evaluating Base Generator on problem 1/8...\n",
      "Error evaluating problem: empty separator\n",
      "Evaluating Base Generator on problem 2/8...\n",
      "  Question: List all project names.\n",
      "  Predicted: SELECT name FROM projects;\n",
      "  Reference: SELECT name FROM projects;\n",
      "  Score: 1.00\n",
      "  Time: 22.64s\n",
      "\n",
      "Evaluating Base Generator on problem 3/8...\n",
      "Error evaluating problem: empty separator\n",
      "Evaluating Base Generator on problem 4/8...\n",
      "Error evaluating problem: empty separator\n",
      "Evaluating Base Generator on problem 5/8...\n",
      "Error evaluating problem: empty separator\n",
      "Evaluating Base Generator on problem 6/8...\n",
      "  Question: What is the highest salary among all employees?\n",
      "  Predicted: SELECT MAX(salary) FROM employees;\n",
      "  Reference: SELECT MAX(salary) FROM employees;\n",
      "  Score: 1.00\n",
      "  Time: 26.98s\n",
      "\n",
      "Evaluating Base Generator on problem 7/8...\n"
     ]
    }
   ],
   "source": [
    "import dspy\n",
    "import time\n",
    "import pandas as pd\n",
    "import matplotlib.pyplot as plt\n",
    "import sqlite3\n",
    "import numpy as np\n",
    "from io import StringIO\n",
    "\n",
    "# Configure DSPy with your local Ollama model\n",
    "dspy.configure(lm=dspy.LM('ollama_chat/deepseek-r1:1.5b', api_base='http://localhost:11434', api_key=''))\n",
    "\n",
    "# Create a simple database schema for our test\n",
    "schema = \"\"\"\n",
    "CREATE TABLE employees (\n",
    "    id INTEGER PRIMARY KEY,\n",
    "    name TEXT NOT NULL,\n",
    "    department TEXT NOT NULL,\n",
    "    salary INTEGER NOT NULL,\n",
    "    hire_date DATE NOT NULL\n",
    ");\n",
    "\n",
    "CREATE TABLE departments (\n",
    "    id INTEGER PRIMARY KEY,\n",
    "    name TEXT NOT NULL,\n",
    "    budget INTEGER NOT NULL,\n",
    "    location TEXT NOT NULL\n",
    ");\n",
    "\n",
    "CREATE TABLE projects (\n",
    "    id INTEGER PRIMARY KEY,\n",
    "    name TEXT NOT NULL,\n",
    "    start_date DATE NOT NULL,\n",
    "    end_date DATE,\n",
    "    department_id INTEGER,\n",
    "    FOREIGN KEY (department_id) REFERENCES departments (id)\n",
    ");\n",
    "\n",
    "CREATE TABLE employee_projects (\n",
    "    employee_id INTEGER,\n",
    "    project_id INTEGER,\n",
    "    role TEXT NOT NULL,\n",
    "    PRIMARY KEY (employee_id, project_id),\n",
    "    FOREIGN KEY (employee_id) REFERENCES employees (id),\n",
    "    FOREIGN KEY (project_id) REFERENCES projects (id)\n",
    ");\n",
    "\"\"\"\n",
    "\n",
    "# Define our Text-to-SQL signature\n",
    "class TextToSQL(dspy.Signature):\n",
    "    \"\"\"Convert natural language question to SQL query.\"\"\"\n",
    "    schema: str = dspy.InputField(desc=\"The database schema\")\n",
    "    question: str = dspy.InputField(desc=\"The natural language question\")\n",
    "    sql_query: str = dspy.OutputField(desc=\"The SQL query that answers the question\")\n",
    "\n",
    "# Define our SQL module\n",
    "class SQLGenerator(dspy.Module):\n",
    "    def __init__(self):\n",
    "        super().__init__()\n",
    "        self.generate_sql = dspy.ChainOfThought(TextToSQL)\n",
    "    \n",
    "    def forward(self, schema, question):\n",
    "        result = self.generate_sql(schema=schema, question=question)\n",
    "        return dspy.Prediction(\n",
    "            schema=schema,\n",
    "            question=question,\n",
    "            sql_query=result.sql_query\n",
    "        )\n",
    "\n",
    "# Create training examples\n",
    "train_examples = [\n",
    "    {\n",
    "        \"question\": \"What are the names of all employees?\",\n",
    "        \"sql_query\": \"SELECT name FROM employees;\"\n",
    "    },\n",
    "    {\n",
    "        \"question\": \"How many employees work in the Finance department?\",\n",
    "        \"sql_query\": \"SELECT COUNT(*) FROM employees WHERE department = 'Finance';\"\n",
    "    },\n",
    "    {\n",
    "        \"question\": \"What is the average salary of employees in the IT department?\",\n",
    "        \"sql_query\": \"SELECT AVG(salary) FROM employees WHERE department = 'IT';\"\n",
    "    },\n",
    "    {\n",
    "        \"question\": \"Which department has the highest budget?\",\n",
    "        \"sql_query\": \"SELECT name FROM departments ORDER BY budget DESC LIMIT 1;\"\n",
    "    },\n",
    "    {\n",
    "        \"question\": \"List the names of employees who work on the Marketing project.\",\n",
    "        \"sql_query\": \"SELECT e.name FROM employees e JOIN employee_projects ep ON e.id = ep.employee_id JOIN projects p ON ep.project_id = p.id WHERE p.name = 'Marketing';\"\n",
    "    }\n",
    "]\n",
    "\n",
    "# Create test examples (different from training examples)\n",
    "test_examples = [\n",
    "    {\n",
    "        \"category\": \"Simple Select\",\n",
    "        \"question\": \"What are the locations of all departments?\",\n",
    "        \"sql_query\": \"SELECT location FROM departments;\"\n",
    "    },\n",
    "    {\n",
    "        \"category\": \"Simple Select\",\n",
    "        \"question\": \"List all project names.\",\n",
    "        \"sql_query\": \"SELECT name FROM projects;\"\n",
    "    },\n",
    "    {\n",
    "        \"category\": \"Filter\",\n",
    "        \"question\": \"Which employees have a salary greater than $80,000?\",\n",
    "        \"sql_query\": \"SELECT name FROM employees WHERE salary > 80000;\"\n",
    "    },\n",
    "    {\n",
    "        \"category\": \"Filter\",\n",
    "        \"question\": \"List departments located in New York.\",\n",
    "        \"sql_query\": \"SELECT name FROM departments WHERE location = 'New York';\"\n",
    "    },\n",
    "    {\n",
    "        \"category\": \"Aggregation\",\n",
    "        \"question\": \"What is the total budget of all departments?\",\n",
    "        \"sql_query\": \"SELECT SUM(budget) FROM departments;\"\n",
    "    },\n",
    "    {\n",
    "        \"category\": \"Aggregation\",\n",
    "        \"question\": \"What is the highest salary among all employees?\",\n",
    "        \"sql_query\": \"SELECT MAX(salary) FROM employees;\"\n",
    "    },\n",
    "    {\n",
    "        \"category\": \"Join\",\n",
    "        \"question\": \"Which employees are assigned to projects in the Finance department?\",\n",
    "        \"sql_query\": \"SELECT DISTINCT e.name FROM employees e JOIN employee_projects ep ON e.id = ep.employee_id JOIN projects p ON ep.project_id = p.id JOIN departments d ON p.department_id = d.id WHERE d.name = 'Finance';\"\n",
    "    },\n",
    "    {\n",
    "        \"category\": \"Join\",\n",
    "        \"question\": \"List the names of employees and their project roles.\",\n",
    "        \"sql_query\": \"SELECT e.name, ep.role FROM employees e JOIN employee_projects ep ON e.id = ep.employee_id JOIN projects p ON ep.project_id = p.id;\"\n",
    "    }\n",
    "]\n",
    "\n",
    "# Add schema to all examples\n",
    "for example in train_examples:\n",
    "    example[\"schema\"] = schema\n",
    "\n",
    "for example in test_examples:\n",
    "    example[\"schema\"] = schema\n",
    "\n",
    "# Convert training data to DSPy format\n",
    "trainset = [dspy.Example(schema=ex[\"schema\"], question=ex[\"question\"], sql_query=ex[\"sql_query\"]).with_inputs('schema', 'question') for ex in train_examples]\n",
    "\n",
    "# Create the SQL generators\n",
    "base_sql_generator = SQLGenerator()\n",
    "\n",
    "def evaluate_sql_query(predicted_query, reference_query):\n",
    "    \"\"\"More robust evaluation for SQL queries\"\"\"\n",
    "    # Handle null, empty or malformed responses\n",
    "    if not predicted_query or not isinstance(predicted_query, str):\n",
    "        return 0.0\n",
    "    \n",
    "    # Normalize queries\n",
    "    pred_norm = predicted_query.lower().strip().rstrip(';')\n",
    "    ref_norm = reference_query.lower().strip().rstrip(';')\n",
    "    \n",
    "    # Exact match\n",
    "    if pred_norm == ref_norm:\n",
    "        return 1.0\n",
    "    \n",
    "    # Word overlap as fallback\n",
    "    try:\n",
    "        pred_words = set(pred_norm.split())\n",
    "        ref_words = set(ref_norm.split())\n",
    "        \n",
    "        if not pred_words or not ref_words:\n",
    "            return 0.0\n",
    "        \n",
    "        return len(pred_words.intersection(ref_words)) / len(pred_words.union(ref_words))\n",
    "    except Exception as e:\n",
    "        print(f\"Error calculating similarity: {e}\")\n",
    "        return 0.0\n",
    "    \n",
    "    pred_norm = normalize_query(predicted_query)\n",
    "    ref_norm = normalize_query(reference_query)\n",
    "    \n",
    "    # Exact match\n",
    "    if pred_norm == ref_norm:\n",
    "        return 1.0\n",
    "    \n",
    "    # Check key components\n",
    "    components = ['select', 'from', 'where', 'join', 'order by', 'group by', 'having', 'limit']\n",
    "    score = 0\n",
    "    total = 0\n",
    "    \n",
    "    for component in components:\n",
    "        if component in pred_norm and component in ref_norm:\n",
    "            # If both have the component, check what comes after\n",
    "            pred_part = pred_norm.split(component)[1].split(next((c for c in components if c in pred_norm.split(component)[1]), ''))[0].strip()\n",
    "            ref_part = ref_norm.split(component)[1].split(next((c for c in components if c in ref_norm.split(component)[1]), ''))[0].strip()\n",
    "            \n",
    "            # Basic similarity score for this component\n",
    "            similarity = len(set(pred_part.split()) & set(ref_part.split())) / max(len(set(pred_part.split())), len(set(ref_part.split()))) if pred_part and ref_part else 0\n",
    "            score += similarity\n",
    "            total += 1\n",
    "        elif component in pred_norm or component in ref_norm:\n",
    "            # If only one has the component, penalize\n",
    "            total += 1\n",
    "    \n",
    "    return score / total if total > 0 else 0\n",
    "\n",
    "# Define a metric for the optimizer\n",
    "def sql_accuracy(example, pred):\n",
    "    \"\"\"Metric for SQL query correctness.\"\"\"\n",
    "    return evaluate_sql_query(pred.sql_query, example.sql_query)\n",
    "\n",
    "# Set up the optimizer\n",
    "optimizer = dspy.MIPROv2(\n",
    "    metric=sql_accuracy,\n",
    "    auto=\"light\",\n",
    "    num_threads=1\n",
    ")\n",
    "\n",
    "# Compile/optimize the SQL generator\n",
    "try:\n",
    "    print(\"Optimizing SQL generator...\")\n",
    "    optimized_sql_generator = optimizer.compile(\n",
    "        base_sql_generator,\n",
    "        trainset=trainset\n",
    "    )\n",
    "    print(\"Optimization complete!\")\n",
    "except Exception as e:\n",
    "    print(f\"Optimization error: {str(e)}\")\n",
    "    import traceback\n",
    "    traceback.print_exc()\n",
    "    optimized_sql_generator = base_sql_generator\n",
    "    print(\"Using unoptimized generator instead.\")\n",
    "\n",
    "# Function to evaluate a generator on the test set\n",
    "def evaluate_generator(generator, test_data, generator_name=\"Generator\"):\n",
    "    results = []\n",
    "    \n",
    "    for i, problem in enumerate(test_data):\n",
    "        print(f\"Evaluating {generator_name} on problem {i+1}/{len(test_data)}...\")\n",
    "        \n",
    "        start_time = time.time()\n",
    "        try:\n",
    "            # Run the generator\n",
    "            result = generator(schema=problem[\"schema\"], question=problem[\"question\"])\n",
    "            \n",
    "            # Get the SQL query\n",
    "            predicted_query = result.sql_query\n",
    "            \n",
    "            # Calculate score\n",
    "            score = evaluate_sql_query(predicted_query, problem[\"sql_query\"])\n",
    "            \n",
    "            # Calculate time\n",
    "            elapsed = time.time() - start_time\n",
    "            \n",
    "            results.append({\n",
    "                \"category\": problem[\"category\"],\n",
    "                \"question\": problem[\"question\"],\n",
    "                \"reference_query\": problem[\"sql_query\"],\n",
    "                \"predicted_query\": predicted_query,\n",
    "                \"score\": score,\n",
    "                \"time\": elapsed,\n",
    "                \"generator\": generator_name\n",
    "            })\n",
    "            \n",
    "            print(f\"  Question: {problem['question']}\")\n",
    "            print(f\"  Predicted: {predicted_query}\")\n",
    "            print(f\"  Reference: {problem['sql_query']}\")\n",
    "            print(f\"  Score: {score:.2f}\")\n",
    "            print(f\"  Time: {elapsed:.2f}s\")\n",
    "            print()\n",
    "            \n",
    "        except Exception as e:\n",
    "            print(f\"Error evaluating problem: {str(e)}\")\n",
    "            results.append({\n",
    "                \"category\": problem[\"category\"],\n",
    "                \"question\": problem[\"question\"],\n",
    "                \"reference_query\": problem[\"sql_query\"],\n",
    "                \"predicted_query\": \"ERROR\",\n",
    "                \"score\": 0,\n",
    "                \"time\": time.time() - start_time,\n",
    "                \"generator\": generator_name\n",
    "            })\n",
    "    \n",
    "    return pd.DataFrame(results)\n",
    "\n",
    "# Evaluate both generators\n",
    "base_results = evaluate_generator(base_sql_generator, test_examples, \"Base Generator\")\n",
    "optimized_results = evaluate_generator(optimized_sql_generator, test_examples, \"Optimized Generator\")\n",
    "\n",
    "# Combine results\n",
    "all_results = pd.concat([base_results, optimized_results])\n",
    "\n",
    "# Calculate overall scores\n",
    "base_score = base_results[\"score\"].mean() * 100\n",
    "optimized_score = optimized_results[\"score\"].mean() * 100\n",
    "\n",
    "print(f\"Base Generator Score: {base_score:.2f}%\")\n",
    "print(f\"Optimized Generator Score: {optimized_score:.2f}%\")\n",
    "\n",
    "# Calculate category-wise scores\n",
    "category_scores = all_results.groupby([\"generator\", \"category\"])[\"score\"].mean() * 100\n",
    "category_scores = category_scores.unstack()\n",
    "\n",
    "# Visualize results\n",
    "plt.figure(figsize=(12, 10))\n",
    "\n",
    "# Overall score comparison\n",
    "plt.subplot(2, 1, 1)\n",
    "plt.bar([\"Base Generator\", \"Optimized Generator\"], [base_score, optimized_score])\n",
    "plt.title(\"Overall Score Comparison\")\n",
    "plt.ylabel(\"Score (%)\")\n",
    "plt.ylim(0, 100)\n",
    "\n",
    "# Category-wise score comparison\n",
    "plt.subplot(2, 1, 2)\n",
    "category_scores.plot(kind=\"bar\")\n",
    "plt.title(\"Score by Query Category\")\n",
    "plt.ylabel(\"Score (%)\")\n",
    "plt.xlabel(\"Generator\")\n",
    "plt.ylim(0, 100)\n",
    "plt.xticks(rotation=0)\n",
    "plt.legend(title=\"Category\")\n",
    "\n",
    "plt.tight_layout()\n",
    "plt.show()\n",
    "\n",
    "# Show a few example comparisons\n",
    "print(\"\\nDetailed comparison for a few problems:\")\n",
    "for category in set(test[\"category\"] for test in test_examples):\n",
    "    # Get one example from each category\n",
    "    example = next(ex for ex in test_examples if ex[\"category\"] == category)\n",
    "    \n",
    "    base_result = base_results[base_results[\"question\"] == example[\"question\"]].iloc[0]\n",
    "    optimized_result = optimized_results[optimized_results[\"question\"] == example[\"question\"]].iloc[0]\n",
    "    \n",
    "    print(f\"\\nCategory: {category}\")\n",
    "    print(f\"Question: {example['question']}\")\n",
    "    print(f\"Reference Query: {example['sql_query']}\")\n",
    "    print(f\"Base Generator: {base_result['predicted_query']} (Score: {base_result['score']:.2f})\")\n",
    "    print(f\"Optimized Generator: {optimized_result['predicted_query']} (Score: {optimized_result['score']:.2f})\")"
   ]
  }
 ],
 "metadata": {
  "kernelspec": {
   "display_name": "base",
   "language": "python",
   "name": "python3"
  },
  "language_info": {
   "codemirror_mode": {
    "name": "ipython",
    "version": 3
   },
   "file_extension": ".py",
   "mimetype": "text/x-python",
   "name": "python",
   "nbconvert_exporter": "python",
   "pygments_lexer": "ipython3",
   "version": "3.12.7"
  }
 },
 "nbformat": 4,
 "nbformat_minor": 2
}
